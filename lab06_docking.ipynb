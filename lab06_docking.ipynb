{
  "nbformat": 4,
  "nbformat_minor": 0,
  "metadata": {
    "colab": {
      "provenance": []
    },
    "kernelspec": {
      "name": "python3",
      "display_name": "Python 3"
    },
    "widgets": {
      "application/vnd.jupyter.widget-state+json": {
        "d2d523bb91bf44bdb379c7b73c1cc522": {
          "model_module": "@jupyter-widgets/controls",
          "model_name": "VBoxModel",
          "model_module_version": "1.5.0",
          "state": {
            "_dom_classes": [
              "widget-interact"
            ],
            "_model_module": "@jupyter-widgets/controls",
            "_model_module_version": "1.5.0",
            "_model_name": "VBoxModel",
            "_view_count": null,
            "_view_module": "@jupyter-widgets/controls",
            "_view_module_version": "1.5.0",
            "_view_name": "VBoxView",
            "box_style": "",
            "children": [
              "IPY_MODEL_e27627e23b024f43aef1c16607e090ee",
              "IPY_MODEL_e940d9eed40b4affb204ef28a21fc3a7"
            ],
            "layout": "IPY_MODEL_c21093316d374a768e469d488f2a3de1"
          }
        },
        "e27627e23b024f43aef1c16607e090ee": {
          "model_module": "@jupyter-widgets/controls",
          "model_name": "TextModel",
          "model_module_version": "1.5.0",
          "state": {
            "_dom_classes": [],
            "_model_module": "@jupyter-widgets/controls",
            "_model_module_version": "1.5.0",
            "_model_name": "TextModel",
            "_view_count": null,
            "_view_module": "@jupyter-widgets/controls",
            "_view_module_version": "1.5.0",
            "_view_name": "TextView",
            "continuous_update": true,
            "description": "smi",
            "description_tooltip": null,
            "disabled": false,
            "layout": "IPY_MODEL_ce5160ff6bd64979a938affc465e21d4",
            "placeholder": "​",
            "style": "IPY_MODEL_702dbc16fa56489f9c33c538b6be4afa",
            "value": "NC(=O)C1=CN(C=C1)[C@@H]1O[C@H](COP(O)(=O)OP(O)(=O)O[C@H]2[C@H](O)[C@@H](O)[C@H](O)[C@H]2O)[C@@H](O)[C@H]1O"
          }
        },
        "e940d9eed40b4affb204ef28a21fc3a7": {
          "model_module": "@jupyter-widgets/output",
          "model_name": "OutputModel",
          "model_module_version": "1.0.0",
          "state": {
            "_dom_classes": [],
            "_model_module": "@jupyter-widgets/output",
            "_model_module_version": "1.0.0",
            "_model_name": "OutputModel",
            "_view_count": null,
            "_view_module": "@jupyter-widgets/output",
            "_view_module_version": "1.0.0",
            "_view_name": "OutputView",
            "layout": "IPY_MODEL_7f3f343261f2469fbe2c088cc5a8de33",
            "msg_id": "",
            "outputs": [
              {
                "output_type": "display_data",
                "data": {
                  "application/3dmoljs_load.v0": "<div id=\"3dmolviewer_17360487842525642\"  style=\"position: relative; width: 640px; height: 480px;\">\n        <p id=\"3dmolwarning_17360487842525642\" style=\"background-color:#ffcccc;color:black\">3Dmol.js failed to load for some reason.  Please check your browser console for error messages.<br></p>\n        </div>\n<script>\n\nvar loadScriptAsync = function(uri){\n  return new Promise((resolve, reject) => {\n    //this is to ignore the existence of requirejs amd\n    var savedexports, savedmodule;\n    if (typeof exports !== 'undefined') savedexports = exports;\n    else exports = {}\n    if (typeof module !== 'undefined') savedmodule = module;\n    else module = {}\n\n    var tag = document.createElement('script');\n    tag.src = uri;\n    tag.async = true;\n    tag.onload = () => {\n        exports = savedexports;\n        module = savedmodule;\n        resolve();\n    };\n  var firstScriptTag = document.getElementsByTagName('script')[0];\n  firstScriptTag.parentNode.insertBefore(tag, firstScriptTag);\n});\n};\n\nif(typeof $3Dmolpromise === 'undefined') {\n$3Dmolpromise = null;\n  $3Dmolpromise = loadScriptAsync('https://cdnjs.cloudflare.com/ajax/libs/3Dmol/2.4.2/3Dmol-min.js');\n}\n\nvar viewer_17360487842525642 = null;\nvar warn = document.getElementById(\"3dmolwarning_17360487842525642\");\nif(warn) {\n    warn.parentNode.removeChild(warn);\n}\n$3Dmolpromise.then(function() {\nviewer_17360487842525642 = $3Dmol.createViewer(document.getElementById(\"3dmolviewer_17360487842525642\"),{backgroundColor:\"white\"});\nviewer_17360487842525642.zoomTo();\n\tviewer_17360487842525642.addModel(\"\\n     RDKit          3D\\n\\n 58 60  0  0  0  0  0  0  0  0999 V2000\\n   -6.1966    3.6044   -1.2702 N   0  0  0  0  0  0  0  0  0  0  0  0\\n   -7.1900    2.7089   -1.0140 C   0  0  0  0  0  0  0  0  0  0  0  0\\n   -8.3172    2.8952   -1.4571 O   0  0  0  0  0  0  0  0  0  0  0  0\\n   -6.8250    1.5457   -0.2082 C   0  0  0  0  0  0  0  0  0  0  0  0\\n   -5.5746    1.1985    0.2775 C   0  0  0  0  0  0  0  0  0  0  0  0\\n   -5.6751    0.0058    0.9528 N   0  0  0  0  0  0  0  0  0  0  0  0\\n   -6.9888   -0.4039    0.9477 C   0  0  0  0  0  0  0  0  0  0  0  0\\n   -7.7140    0.5121    0.2262 C   0  0  0  0  0  0  0  0  0  0  0  0\\n   -4.5672   -0.7783    1.5007 C   0  0  2  0  0  0  0  0  0  0  0  0\\n   -3.4194    0.0831    1.7085 O   0  0  0  0  0  0  0  0  0  0  0  0\\n   -2.2489   -0.5998    1.2000 C   0  0  2  0  0  0  0  0  0  0  0  0\\n   -1.7618    0.1493   -0.0413 C   0  0  0  0  0  0  0  0  0  0  0  0\\n   -0.8343   -0.5820   -0.8267 O   0  0  0  0  0  0  0  0  0  0  0  0\\n    0.6409   -0.8333   -0.2378 P   0  0  0  0  0  5  0  0  0  0  0  0\\n    1.3675   -1.4635   -1.5262 O   0  0  0  0  0  0  0  0  0  0  0  0\\n    0.6688   -1.7329    0.9495 O   0  0  0  0  0  0  0  0  0  0  0  0\\n    1.2671    0.6070   -0.1025 O   0  0  0  0  0  0  0  0  0  0  0  0\\n    2.6945    1.0575   -0.6211 P   0  0  0  0  0  5  0  0  0  0  0  0\\n    2.6304    0.7581   -2.1932 O   0  0  0  0  0  0  0  0  0  0  0  0\\n    3.0670    2.4710   -0.2952 O   0  0  0  0  0  0  0  0  0  0  0  0\\n    3.7300   -0.0375   -0.0898 O   0  0  0  0  0  0  0  0  0  0  0  0\\n    5.0763    0.0171   -0.5302 C   0  0  0  0  0  0  0  0  0  0  0  0\\n    5.9098   -1.1861   -0.0200 C   0  0  2  0  0  0  0  0  0  0  0  0\\n    5.2525   -1.9345    1.0051 O   0  0  0  0  0  0  0  0  0  0  0  0\\n    7.2255   -0.5847    0.5203 C   0  0  1  0  0  0  0  0  0  0  0  0\\n    8.3460   -1.3917    0.1751 O   0  0  0  0  0  0  0  0  0  0  0  0\\n    7.2996    0.7892   -0.1325 C   0  0  2  0  0  0  0  0  0  0  0  0\\n    8.1945    1.6505    0.5681 O   0  0  0  0  0  0  0  0  0  0  0  0\\n    5.8450    1.2560   -0.0458 C   0  0  1  0  0  0  0  0  0  0  0  0\\n    5.6665    2.3842   -0.8961 O   0  0  0  0  0  0  0  0  0  0  0  0\\n   -2.6680   -2.0452    0.9364 C   0  0  1  0  0  0  0  0  0  0  0  0\\n   -2.5739   -2.7846    2.1538 O   0  0  0  0  0  0  0  0  0  0  0  0\\n   -4.1233   -1.8766    0.5241 C   0  0  1  0  0  0  0  0  0  0  0  0\\n   -4.8633   -3.0902    0.5794 O   0  0  0  0  0  0  0  0  0  0  0  0\\n   -6.4071    4.3688   -1.8919 H   0  0  0  0  0  0  0  0  0  0  0  0\\n   -5.2492    3.5056   -0.9433 H   0  0  0  0  0  0  0  0  0  0  0  0\\n   -4.6189    1.6973    0.1943 H   0  0  0  0  0  0  0  0  0  0  0  0\\n   -7.3012   -1.3221    1.4388 H   0  0  0  0  0  0  0  0  0  0  0  0\\n   -8.7796    0.4622    0.0230 H   0  0  0  0  0  0  0  0  0  0  0  0\\n   -4.8947   -1.1698    2.4678 H   0  0  0  0  0  0  0  0  0  0  0  0\\n   -1.4833   -0.5593    1.9819 H   0  0  0  0  0  0  0  0  0  0  0  0\\n   -1.3275    1.1117    0.2428 H   0  0  0  0  0  0  0  0  0  0  0  0\\n   -2.6035    0.3986   -0.6918 H   0  0  0  0  0  0  0  0  0  0  0  0\\n    1.1855   -2.4230   -1.5628 H   0  0  0  0  0  0  0  0  0  0  0  0\\n    2.3286   -0.1608   -2.3694 H   0  0  0  0  0  0  0  0  0  0  0  0\\n    5.0825   -0.0018   -1.6264 H   0  0  0  0  0  0  0  0  0  0  0  0\\n    6.1005   -1.8766   -0.8522 H   0  0  0  0  0  0  0  0  0  0  0  0\\n    5.8525   -2.6669    1.2563 H   0  0  0  0  0  0  0  0  0  0  0  0\\n    7.2125   -0.5064    1.6183 H   0  0  0  0  0  0  0  0  0  0  0  0\\n    9.1366   -0.8732    0.4239 H   0  0  0  0  0  0  0  0  0  0  0  0\\n    7.6517    0.7311   -1.1721 H   0  0  0  0  0  0  0  0  0  0  0  0\\n    8.0376    2.5405    0.1891 H   0  0  0  0  0  0  0  0  0  0  0  0\\n    5.5717    1.5521    0.9769 H   0  0  0  0  0  0  0  0  0  0  0  0\\n    4.7958    2.7890   -0.6720 H   0  0  0  0  0  0  0  0  0  0  0  0\\n   -2.0780   -2.5728    0.1877 H   0  0  0  0  0  0  0  0  0  0  0  0\\n   -1.6296   -2.9663    2.3165 H   0  0  0  0  0  0  0  0  0  0  0  0\\n   -4.1612   -1.5179   -0.5130 H   0  0  0  0  0  0  0  0  0  0  0  0\\n   -5.7620   -2.9090    0.2499 H   0  0  0  0  0  0  0  0  0  0  0  0\\n  1  2  1  0\\n  2  3  2  0\\n  2  4  1  0\\n  4  5  2  0\\n  5  6  1  0\\n  6  7  1  0\\n  7  8  2  0\\n  6  9  1  0\\n  9 10  1  0\\n 10 11  1  0\\n 11 12  1  0\\n 12 13  1  0\\n 13 14  1  0\\n 14 15  1  0\\n 14 16  2  0\\n 14 17  1  0\\n 17 18  1  0\\n 18 19  1  0\\n 18 20  2  0\\n 18 21  1  0\\n 21 22  1  0\\n 22 23  1  0\\n 23 24  1  0\\n 23 25  1  0\\n 25 26  1  0\\n 25 27  1  0\\n 27 28  1  0\\n 27 29  1  0\\n 29 30  1  0\\n 11 31  1  0\\n 31 32  1  0\\n 31 33  1  0\\n 33 34  1  0\\n  8  4  1  0\\n 33  9  1  0\\n 29 22  1  0\\n  1 35  1  0\\n  1 36  1  0\\n  5 37  1  0\\n  7 38  1  0\\n  8 39  1  0\\n  9 40  1  1\\n 11 41  1  1\\n 12 42  1  0\\n 12 43  1  0\\n 15 44  1  0\\n 19 45  1  0\\n 22 46  1  0\\n 23 47  1  6\\n 24 48  1  0\\n 25 49  1  1\\n 26 50  1  0\\n 27 51  1  6\\n 28 52  1  0\\n 29 53  1  1\\n 30 54  1  0\\n 31 55  1  6\\n 32 56  1  0\\n 33 57  1  6\\n 34 58  1  0\\nM  END\\n\",\"mol\");\n\tviewer_17360487842525642.setStyle({\"stick\": {}});\n\tviewer_17360487842525642.zoomTo();\nviewer_17360487842525642.render();\n});\n</script>",
                  "text/html": "<div id=\"3dmolviewer_17360487842525642\"  style=\"position: relative; width: 640px; height: 480px;\">\n        <p id=\"3dmolwarning_17360487842525642\" style=\"background-color:#ffcccc;color:black\">3Dmol.js failed to load for some reason.  Please check your browser console for error messages.<br></p>\n        </div>\n<script>\n\nvar loadScriptAsync = function(uri){\n  return new Promise((resolve, reject) => {\n    //this is to ignore the existence of requirejs amd\n    var savedexports, savedmodule;\n    if (typeof exports !== 'undefined') savedexports = exports;\n    else exports = {}\n    if (typeof module !== 'undefined') savedmodule = module;\n    else module = {}\n\n    var tag = document.createElement('script');\n    tag.src = uri;\n    tag.async = true;\n    tag.onload = () => {\n        exports = savedexports;\n        module = savedmodule;\n        resolve();\n    };\n  var firstScriptTag = document.getElementsByTagName('script')[0];\n  firstScriptTag.parentNode.insertBefore(tag, firstScriptTag);\n});\n};\n\nif(typeof $3Dmolpromise === 'undefined') {\n$3Dmolpromise = null;\n  $3Dmolpromise = loadScriptAsync('https://cdnjs.cloudflare.com/ajax/libs/3Dmol/2.4.2/3Dmol-min.js');\n}\n\nvar viewer_17360487842525642 = null;\nvar warn = document.getElementById(\"3dmolwarning_17360487842525642\");\nif(warn) {\n    warn.parentNode.removeChild(warn);\n}\n$3Dmolpromise.then(function() {\nviewer_17360487842525642 = $3Dmol.createViewer(document.getElementById(\"3dmolviewer_17360487842525642\"),{backgroundColor:\"white\"});\nviewer_17360487842525642.zoomTo();\n\tviewer_17360487842525642.addModel(\"\\n     RDKit          3D\\n\\n 58 60  0  0  0  0  0  0  0  0999 V2000\\n   -6.1966    3.6044   -1.2702 N   0  0  0  0  0  0  0  0  0  0  0  0\\n   -7.1900    2.7089   -1.0140 C   0  0  0  0  0  0  0  0  0  0  0  0\\n   -8.3172    2.8952   -1.4571 O   0  0  0  0  0  0  0  0  0  0  0  0\\n   -6.8250    1.5457   -0.2082 C   0  0  0  0  0  0  0  0  0  0  0  0\\n   -5.5746    1.1985    0.2775 C   0  0  0  0  0  0  0  0  0  0  0  0\\n   -5.6751    0.0058    0.9528 N   0  0  0  0  0  0  0  0  0  0  0  0\\n   -6.9888   -0.4039    0.9477 C   0  0  0  0  0  0  0  0  0  0  0  0\\n   -7.7140    0.5121    0.2262 C   0  0  0  0  0  0  0  0  0  0  0  0\\n   -4.5672   -0.7783    1.5007 C   0  0  2  0  0  0  0  0  0  0  0  0\\n   -3.4194    0.0831    1.7085 O   0  0  0  0  0  0  0  0  0  0  0  0\\n   -2.2489   -0.5998    1.2000 C   0  0  2  0  0  0  0  0  0  0  0  0\\n   -1.7618    0.1493   -0.0413 C   0  0  0  0  0  0  0  0  0  0  0  0\\n   -0.8343   -0.5820   -0.8267 O   0  0  0  0  0  0  0  0  0  0  0  0\\n    0.6409   -0.8333   -0.2378 P   0  0  0  0  0  5  0  0  0  0  0  0\\n    1.3675   -1.4635   -1.5262 O   0  0  0  0  0  0  0  0  0  0  0  0\\n    0.6688   -1.7329    0.9495 O   0  0  0  0  0  0  0  0  0  0  0  0\\n    1.2671    0.6070   -0.1025 O   0  0  0  0  0  0  0  0  0  0  0  0\\n    2.6945    1.0575   -0.6211 P   0  0  0  0  0  5  0  0  0  0  0  0\\n    2.6304    0.7581   -2.1932 O   0  0  0  0  0  0  0  0  0  0  0  0\\n    3.0670    2.4710   -0.2952 O   0  0  0  0  0  0  0  0  0  0  0  0\\n    3.7300   -0.0375   -0.0898 O   0  0  0  0  0  0  0  0  0  0  0  0\\n    5.0763    0.0171   -0.5302 C   0  0  0  0  0  0  0  0  0  0  0  0\\n    5.9098   -1.1861   -0.0200 C   0  0  2  0  0  0  0  0  0  0  0  0\\n    5.2525   -1.9345    1.0051 O   0  0  0  0  0  0  0  0  0  0  0  0\\n    7.2255   -0.5847    0.5203 C   0  0  1  0  0  0  0  0  0  0  0  0\\n    8.3460   -1.3917    0.1751 O   0  0  0  0  0  0  0  0  0  0  0  0\\n    7.2996    0.7892   -0.1325 C   0  0  2  0  0  0  0  0  0  0  0  0\\n    8.1945    1.6505    0.5681 O   0  0  0  0  0  0  0  0  0  0  0  0\\n    5.8450    1.2560   -0.0458 C   0  0  1  0  0  0  0  0  0  0  0  0\\n    5.6665    2.3842   -0.8961 O   0  0  0  0  0  0  0  0  0  0  0  0\\n   -2.6680   -2.0452    0.9364 C   0  0  1  0  0  0  0  0  0  0  0  0\\n   -2.5739   -2.7846    2.1538 O   0  0  0  0  0  0  0  0  0  0  0  0\\n   -4.1233   -1.8766    0.5241 C   0  0  1  0  0  0  0  0  0  0  0  0\\n   -4.8633   -3.0902    0.5794 O   0  0  0  0  0  0  0  0  0  0  0  0\\n   -6.4071    4.3688   -1.8919 H   0  0  0  0  0  0  0  0  0  0  0  0\\n   -5.2492    3.5056   -0.9433 H   0  0  0  0  0  0  0  0  0  0  0  0\\n   -4.6189    1.6973    0.1943 H   0  0  0  0  0  0  0  0  0  0  0  0\\n   -7.3012   -1.3221    1.4388 H   0  0  0  0  0  0  0  0  0  0  0  0\\n   -8.7796    0.4622    0.0230 H   0  0  0  0  0  0  0  0  0  0  0  0\\n   -4.8947   -1.1698    2.4678 H   0  0  0  0  0  0  0  0  0  0  0  0\\n   -1.4833   -0.5593    1.9819 H   0  0  0  0  0  0  0  0  0  0  0  0\\n   -1.3275    1.1117    0.2428 H   0  0  0  0  0  0  0  0  0  0  0  0\\n   -2.6035    0.3986   -0.6918 H   0  0  0  0  0  0  0  0  0  0  0  0\\n    1.1855   -2.4230   -1.5628 H   0  0  0  0  0  0  0  0  0  0  0  0\\n    2.3286   -0.1608   -2.3694 H   0  0  0  0  0  0  0  0  0  0  0  0\\n    5.0825   -0.0018   -1.6264 H   0  0  0  0  0  0  0  0  0  0  0  0\\n    6.1005   -1.8766   -0.8522 H   0  0  0  0  0  0  0  0  0  0  0  0\\n    5.8525   -2.6669    1.2563 H   0  0  0  0  0  0  0  0  0  0  0  0\\n    7.2125   -0.5064    1.6183 H   0  0  0  0  0  0  0  0  0  0  0  0\\n    9.1366   -0.8732    0.4239 H   0  0  0  0  0  0  0  0  0  0  0  0\\n    7.6517    0.7311   -1.1721 H   0  0  0  0  0  0  0  0  0  0  0  0\\n    8.0376    2.5405    0.1891 H   0  0  0  0  0  0  0  0  0  0  0  0\\n    5.5717    1.5521    0.9769 H   0  0  0  0  0  0  0  0  0  0  0  0\\n    4.7958    2.7890   -0.6720 H   0  0  0  0  0  0  0  0  0  0  0  0\\n   -2.0780   -2.5728    0.1877 H   0  0  0  0  0  0  0  0  0  0  0  0\\n   -1.6296   -2.9663    2.3165 H   0  0  0  0  0  0  0  0  0  0  0  0\\n   -4.1612   -1.5179   -0.5130 H   0  0  0  0  0  0  0  0  0  0  0  0\\n   -5.7620   -2.9090    0.2499 H   0  0  0  0  0  0  0  0  0  0  0  0\\n  1  2  1  0\\n  2  3  2  0\\n  2  4  1  0\\n  4  5  2  0\\n  5  6  1  0\\n  6  7  1  0\\n  7  8  2  0\\n  6  9  1  0\\n  9 10  1  0\\n 10 11  1  0\\n 11 12  1  0\\n 12 13  1  0\\n 13 14  1  0\\n 14 15  1  0\\n 14 16  2  0\\n 14 17  1  0\\n 17 18  1  0\\n 18 19  1  0\\n 18 20  2  0\\n 18 21  1  0\\n 21 22  1  0\\n 22 23  1  0\\n 23 24  1  0\\n 23 25  1  0\\n 25 26  1  0\\n 25 27  1  0\\n 27 28  1  0\\n 27 29  1  0\\n 29 30  1  0\\n 11 31  1  0\\n 31 32  1  0\\n 31 33  1  0\\n 33 34  1  0\\n  8  4  1  0\\n 33  9  1  0\\n 29 22  1  0\\n  1 35  1  0\\n  1 36  1  0\\n  5 37  1  0\\n  7 38  1  0\\n  8 39  1  0\\n  9 40  1  1\\n 11 41  1  1\\n 12 42  1  0\\n 12 43  1  0\\n 15 44  1  0\\n 19 45  1  0\\n 22 46  1  0\\n 23 47  1  6\\n 24 48  1  0\\n 25 49  1  1\\n 26 50  1  0\\n 27 51  1  6\\n 28 52  1  0\\n 29 53  1  1\\n 30 54  1  0\\n 31 55  1  6\\n 32 56  1  0\\n 33 57  1  6\\n 34 58  1  0\\nM  END\\n\",\"mol\");\n\tviewer_17360487842525642.setStyle({\"stick\": {}});\n\tviewer_17360487842525642.zoomTo();\nviewer_17360487842525642.render();\n});\n</script>"
                },
                "metadata": {}
              }
            ]
          }
        },
        "c21093316d374a768e469d488f2a3de1": {
          "model_module": "@jupyter-widgets/base",
          "model_name": "LayoutModel",
          "model_module_version": "1.2.0",
          "state": {
            "_model_module": "@jupyter-widgets/base",
            "_model_module_version": "1.2.0",
            "_model_name": "LayoutModel",
            "_view_count": null,
            "_view_module": "@jupyter-widgets/base",
            "_view_module_version": "1.2.0",
            "_view_name": "LayoutView",
            "align_content": null,
            "align_items": null,
            "align_self": null,
            "border": null,
            "bottom": null,
            "display": null,
            "flex": null,
            "flex_flow": null,
            "grid_area": null,
            "grid_auto_columns": null,
            "grid_auto_flow": null,
            "grid_auto_rows": null,
            "grid_column": null,
            "grid_gap": null,
            "grid_row": null,
            "grid_template_areas": null,
            "grid_template_columns": null,
            "grid_template_rows": null,
            "height": null,
            "justify_content": null,
            "justify_items": null,
            "left": null,
            "margin": null,
            "max_height": null,
            "max_width": null,
            "min_height": null,
            "min_width": null,
            "object_fit": null,
            "object_position": null,
            "order": null,
            "overflow": null,
            "overflow_x": null,
            "overflow_y": null,
            "padding": null,
            "right": null,
            "top": null,
            "visibility": null,
            "width": null
          }
        },
        "ce5160ff6bd64979a938affc465e21d4": {
          "model_module": "@jupyter-widgets/base",
          "model_name": "LayoutModel",
          "model_module_version": "1.2.0",
          "state": {
            "_model_module": "@jupyter-widgets/base",
            "_model_module_version": "1.2.0",
            "_model_name": "LayoutModel",
            "_view_count": null,
            "_view_module": "@jupyter-widgets/base",
            "_view_module_version": "1.2.0",
            "_view_name": "LayoutView",
            "align_content": null,
            "align_items": null,
            "align_self": null,
            "border": null,
            "bottom": null,
            "display": null,
            "flex": null,
            "flex_flow": null,
            "grid_area": null,
            "grid_auto_columns": null,
            "grid_auto_flow": null,
            "grid_auto_rows": null,
            "grid_column": null,
            "grid_gap": null,
            "grid_row": null,
            "grid_template_areas": null,
            "grid_template_columns": null,
            "grid_template_rows": null,
            "height": null,
            "justify_content": null,
            "justify_items": null,
            "left": null,
            "margin": null,
            "max_height": null,
            "max_width": null,
            "min_height": null,
            "min_width": null,
            "object_fit": null,
            "object_position": null,
            "order": null,
            "overflow": null,
            "overflow_x": null,
            "overflow_y": null,
            "padding": null,
            "right": null,
            "top": null,
            "visibility": null,
            "width": null
          }
        },
        "702dbc16fa56489f9c33c538b6be4afa": {
          "model_module": "@jupyter-widgets/controls",
          "model_name": "DescriptionStyleModel",
          "model_module_version": "1.5.0",
          "state": {
            "_model_module": "@jupyter-widgets/controls",
            "_model_module_version": "1.5.0",
            "_model_name": "DescriptionStyleModel",
            "_view_count": null,
            "_view_module": "@jupyter-widgets/base",
            "_view_module_version": "1.2.0",
            "_view_name": "StyleView",
            "description_width": ""
          }
        },
        "7f3f343261f2469fbe2c088cc5a8de33": {
          "model_module": "@jupyter-widgets/base",
          "model_name": "LayoutModel",
          "model_module_version": "1.2.0",
          "state": {
            "_model_module": "@jupyter-widgets/base",
            "_model_module_version": "1.2.0",
            "_model_name": "LayoutModel",
            "_view_count": null,
            "_view_module": "@jupyter-widgets/base",
            "_view_module_version": "1.2.0",
            "_view_name": "LayoutView",
            "align_content": null,
            "align_items": null,
            "align_self": null,
            "border": null,
            "bottom": null,
            "display": null,
            "flex": null,
            "flex_flow": null,
            "grid_area": null,
            "grid_auto_columns": null,
            "grid_auto_flow": null,
            "grid_auto_rows": null,
            "grid_column": null,
            "grid_gap": null,
            "grid_row": null,
            "grid_template_areas": null,
            "grid_template_columns": null,
            "grid_template_rows": null,
            "height": null,
            "justify_content": null,
            "justify_items": null,
            "left": null,
            "margin": null,
            "max_height": null,
            "max_width": null,
            "min_height": null,
            "min_width": null,
            "object_fit": null,
            "object_position": null,
            "order": null,
            "overflow": null,
            "overflow_x": null,
            "overflow_y": null,
            "padding": null,
            "right": null,
            "top": null,
            "visibility": null,
            "width": null
          }
        },
        "caf6491771614b6aa564192d3db63e01": {
          "model_module": "@jupyter-widgets/controls",
          "model_name": "VBoxModel",
          "model_module_version": "1.5.0",
          "state": {
            "_dom_classes": [
              "widget-interact"
            ],
            "_model_module": "@jupyter-widgets/controls",
            "_model_module_version": "1.5.0",
            "_model_name": "VBoxModel",
            "_view_count": null,
            "_view_module": "@jupyter-widgets/controls",
            "_view_module_version": "1.5.0",
            "_view_name": "VBoxView",
            "box_style": "",
            "children": [
              "IPY_MODEL_0bcaf2a9af494bbaae0cc12137a27944",
              "IPY_MODEL_f9d3ca69b49b4b228b0738896e33cb50",
              "IPY_MODEL_12dbbe750d3945b183bf9590f5f1c321",
              "IPY_MODEL_b12810c80afb44fba83fe8611e0831de",
              "IPY_MODEL_9d30b25d05d94950929b0a4458aa87b6",
              "IPY_MODEL_2cc5639571134786a475e84d3238074b",
              "IPY_MODEL_ae3036489a474a5e810a54e0b62c6827",
              "IPY_MODEL_26e99a0cecb24071bf6674ab93c45a1b",
              "IPY_MODEL_7d531173e58f4ddc84a26cde95485c64"
            ],
            "layout": "IPY_MODEL_d2370db2a6bd4cc2a6dd38089b3a2cb3"
          }
        },
        "0bcaf2a9af494bbaae0cc12137a27944": {
          "model_module": "@jupyter-widgets/controls",
          "model_name": "TextModel",
          "model_module_version": "1.5.0",
          "state": {
            "_dom_classes": [],
            "_model_module": "@jupyter-widgets/controls",
            "_model_module_version": "1.5.0",
            "_model_name": "TextModel",
            "_view_count": null,
            "_view_module": "@jupyter-widgets/controls",
            "_view_module_version": "1.5.0",
            "_view_name": "TextView",
            "continuous_update": true,
            "description": "prot_PDBfile",
            "description_tooltip": null,
            "disabled": false,
            "layout": "IPY_MODEL_1ec4da3b30734f7cbaac5b25382cda30",
            "placeholder": "​",
            "style": "IPY_MODEL_42f476b1900f436a9da963b34bfa917d",
            "value": "/content/Alphafold/R9_seq1_unrelaxed_rank_001.pdb"
          }
        },
        "f9d3ca69b49b4b228b0738896e33cb50": {
          "model_module": "@jupyter-widgets/controls",
          "model_name": "DropdownModel",
          "model_module_version": "1.5.0",
          "state": {
            "_dom_classes": [],
            "_model_module": "@jupyter-widgets/controls",
            "_model_module_version": "1.5.0",
            "_model_name": "DropdownModel",
            "_options_labels": [
              "26-83"
            ],
            "_view_count": null,
            "_view_module": "@jupyter-widgets/controls",
            "_view_module_version": "1.5.0",
            "_view_name": "DropdownView",
            "description": "resids",
            "description_tooltip": null,
            "disabled": false,
            "index": 0,
            "layout": "IPY_MODEL_a33ac083ce864102be4b5de91e56f3e2",
            "style": "IPY_MODEL_2d395e35c4d44cf3b4d4b0415582c156"
          }
        },
        "12dbbe750d3945b183bf9590f5f1c321": {
          "model_module": "@jupyter-widgets/controls",
          "model_name": "IntSliderModel",
          "model_module_version": "1.5.0",
          "state": {
            "_dom_classes": [],
            "_model_module": "@jupyter-widgets/controls",
            "_model_module_version": "1.5.0",
            "_model_name": "IntSliderModel",
            "_view_count": null,
            "_view_module": "@jupyter-widgets/controls",
            "_view_module_version": "1.5.0",
            "_view_name": "IntSliderView",
            "continuous_update": true,
            "description": "bxi",
            "description_tooltip": null,
            "disabled": false,
            "layout": "IPY_MODEL_8c1ed01cd55b447692b7bf0d84be5b4a",
            "max": 100,
            "min": -100,
            "orientation": "horizontal",
            "readout": true,
            "readout_format": "d",
            "step": 1,
            "style": "IPY_MODEL_c046ee0163cf48c3a0502a3d55f80979",
            "value": 0
          }
        },
        "b12810c80afb44fba83fe8611e0831de": {
          "model_module": "@jupyter-widgets/controls",
          "model_name": "IntSliderModel",
          "model_module_version": "1.5.0",
          "state": {
            "_dom_classes": [],
            "_model_module": "@jupyter-widgets/controls",
            "_model_module_version": "1.5.0",
            "_model_name": "IntSliderModel",
            "_view_count": null,
            "_view_module": "@jupyter-widgets/controls",
            "_view_module_version": "1.5.0",
            "_view_name": "IntSliderView",
            "continuous_update": true,
            "description": "byi",
            "description_tooltip": null,
            "disabled": false,
            "layout": "IPY_MODEL_9fe9552d5af94fada89ff6d78aca1391",
            "max": 100,
            "min": -100,
            "orientation": "horizontal",
            "readout": true,
            "readout_format": "d",
            "step": 1,
            "style": "IPY_MODEL_a5fae9b0913e4b5aaa6c8854cc182976",
            "value": 0
          }
        },
        "9d30b25d05d94950929b0a4458aa87b6": {
          "model_module": "@jupyter-widgets/controls",
          "model_name": "IntSliderModel",
          "model_module_version": "1.5.0",
          "state": {
            "_dom_classes": [],
            "_model_module": "@jupyter-widgets/controls",
            "_model_module_version": "1.5.0",
            "_model_name": "IntSliderModel",
            "_view_count": null,
            "_view_module": "@jupyter-widgets/controls",
            "_view_module_version": "1.5.0",
            "_view_name": "IntSliderView",
            "continuous_update": true,
            "description": "bzi",
            "description_tooltip": null,
            "disabled": false,
            "layout": "IPY_MODEL_8758c1e43d7a49b6aff71f6d9aeb32dd",
            "max": 100,
            "min": -100,
            "orientation": "horizontal",
            "readout": true,
            "readout_format": "d",
            "step": 1,
            "style": "IPY_MODEL_b8b3aded525c4e50bd2b58733aaf7611",
            "value": 0
          }
        },
        "2cc5639571134786a475e84d3238074b": {
          "model_module": "@jupyter-widgets/controls",
          "model_name": "IntSliderModel",
          "model_module_version": "1.5.0",
          "state": {
            "_dom_classes": [],
            "_model_module": "@jupyter-widgets/controls",
            "_model_module_version": "1.5.0",
            "_model_name": "IntSliderModel",
            "_view_count": null,
            "_view_module": "@jupyter-widgets/controls",
            "_view_module_version": "1.5.0",
            "_view_name": "IntSliderView",
            "continuous_update": true,
            "description": "bxf",
            "description_tooltip": null,
            "disabled": false,
            "layout": "IPY_MODEL_2794c61eaf684a4f9bfc42d0bb13c100",
            "max": 40,
            "min": 4,
            "orientation": "horizontal",
            "readout": true,
            "readout_format": "d",
            "step": 1,
            "style": "IPY_MODEL_80bb2be763464518aeb83c3f22856c7f",
            "value": 4
          }
        },
        "ae3036489a474a5e810a54e0b62c6827": {
          "model_module": "@jupyter-widgets/controls",
          "model_name": "IntSliderModel",
          "model_module_version": "1.5.0",
          "state": {
            "_dom_classes": [],
            "_model_module": "@jupyter-widgets/controls",
            "_model_module_version": "1.5.0",
            "_model_name": "IntSliderModel",
            "_view_count": null,
            "_view_module": "@jupyter-widgets/controls",
            "_view_module_version": "1.5.0",
            "_view_name": "IntSliderView",
            "continuous_update": true,
            "description": "byf",
            "description_tooltip": null,
            "disabled": false,
            "layout": "IPY_MODEL_3ee1ea35b5814fe8b6b56915ad522380",
            "max": 30,
            "min": 4,
            "orientation": "horizontal",
            "readout": true,
            "readout_format": "d",
            "step": 1,
            "style": "IPY_MODEL_f5d4e57a6b2b44219e22b4ff9cdc4f11",
            "value": 4
          }
        },
        "26e99a0cecb24071bf6674ab93c45a1b": {
          "model_module": "@jupyter-widgets/controls",
          "model_name": "IntSliderModel",
          "model_module_version": "1.5.0",
          "state": {
            "_dom_classes": [],
            "_model_module": "@jupyter-widgets/controls",
            "_model_module_version": "1.5.0",
            "_model_name": "IntSliderModel",
            "_view_count": null,
            "_view_module": "@jupyter-widgets/controls",
            "_view_module_version": "1.5.0",
            "_view_name": "IntSliderView",
            "continuous_update": true,
            "description": "bzf",
            "description_tooltip": null,
            "disabled": false,
            "layout": "IPY_MODEL_0c143cb050554ca49a89f257b46f7a18",
            "max": 30,
            "min": 4,
            "orientation": "horizontal",
            "readout": true,
            "readout_format": "d",
            "step": 1,
            "style": "IPY_MODEL_33239b5f42554940b07394574dbcd38e",
            "value": 4
          }
        },
        "7d531173e58f4ddc84a26cde95485c64": {
          "model_module": "@jupyter-widgets/output",
          "model_name": "OutputModel",
          "model_module_version": "1.0.0",
          "state": {
            "_dom_classes": [],
            "_model_module": "@jupyter-widgets/output",
            "_model_module_version": "1.0.0",
            "_model_name": "OutputModel",
            "_view_count": null,
            "_view_module": "@jupyter-widgets/output",
            "_view_module_version": "1.0.0",
            "_view_name": "OutputView",
            "layout": "IPY_MODEL_f489bdd8a7df4017ae794d35b987e464",
            "msg_id": "",
            "outputs": [
              {
                "output_type": "error",
                "ename": "NameError",
                "evalue": "name 'py3Dmol' is not defined",
                "traceback": [
                  "\u001b[0;31m---------------------------------------------------------------------------\u001b[0m",
                  "\u001b[0;31mNameError\u001b[0m                                 Traceback (most recent call last)",
                  "\u001b[0;32m/usr/local/lib/python3.10/dist-packages/ipywidgets/widgets/interaction.py\u001b[0m in \u001b[0;36mupdate\u001b[0;34m(self, *args)\u001b[0m\n\u001b[1;32m    255\u001b[0m                     \u001b[0mvalue\u001b[0m \u001b[0;34m=\u001b[0m \u001b[0mwidget\u001b[0m\u001b[0;34m.\u001b[0m\u001b[0mget_interact_value\u001b[0m\u001b[0;34m(\u001b[0m\u001b[0;34m)\u001b[0m\u001b[0;34m\u001b[0m\u001b[0;34m\u001b[0m\u001b[0m\n\u001b[1;32m    256\u001b[0m                     \u001b[0mself\u001b[0m\u001b[0;34m.\u001b[0m\u001b[0mkwargs\u001b[0m\u001b[0;34m[\u001b[0m\u001b[0mwidget\u001b[0m\u001b[0;34m.\u001b[0m\u001b[0m_kwarg\u001b[0m\u001b[0;34m]\u001b[0m \u001b[0;34m=\u001b[0m \u001b[0mvalue\u001b[0m\u001b[0;34m\u001b[0m\u001b[0;34m\u001b[0m\u001b[0m\n\u001b[0;32m--> 257\u001b[0;31m                 \u001b[0mself\u001b[0m\u001b[0;34m.\u001b[0m\u001b[0mresult\u001b[0m \u001b[0;34m=\u001b[0m \u001b[0mself\u001b[0m\u001b[0;34m.\u001b[0m\u001b[0mf\u001b[0m\u001b[0;34m(\u001b[0m\u001b[0;34m**\u001b[0m\u001b[0mself\u001b[0m\u001b[0;34m.\u001b[0m\u001b[0mkwargs\u001b[0m\u001b[0;34m)\u001b[0m\u001b[0;34m\u001b[0m\u001b[0;34m\u001b[0m\u001b[0m\n\u001b[0m\u001b[1;32m    258\u001b[0m                 \u001b[0mshow_inline_matplotlib_plots\u001b[0m\u001b[0;34m(\u001b[0m\u001b[0;34m)\u001b[0m\u001b[0;34m\u001b[0m\u001b[0;34m\u001b[0m\u001b[0m\n\u001b[1;32m    259\u001b[0m                 \u001b[0;32mif\u001b[0m \u001b[0mself\u001b[0m\u001b[0;34m.\u001b[0m\u001b[0mauto_display\u001b[0m \u001b[0;32mand\u001b[0m \u001b[0mself\u001b[0m\u001b[0;34m.\u001b[0m\u001b[0mresult\u001b[0m \u001b[0;32mis\u001b[0m \u001b[0;32mnot\u001b[0m \u001b[0;32mNone\u001b[0m\u001b[0;34m:\u001b[0m\u001b[0;34m\u001b[0m\u001b[0;34m\u001b[0m\u001b[0m\n",
                  "\u001b[0;32m<ipython-input-1-5e65beac9a69>\u001b[0m in \u001b[0;36mviewprotgrid\u001b[0;34m(prot_PDBfile, resids, bxi, byi, bzi, bxf, byf, bzf)\u001b[0m\n\u001b[1;32m     26\u001b[0m \u001b[0;31m#Lastly, we combine the box grid and protein into a single viewer\u001b[0m\u001b[0;34m\u001b[0m\u001b[0;34m\u001b[0m\u001b[0m\n\u001b[1;32m     27\u001b[0m \u001b[0;32mdef\u001b[0m \u001b[0mviewprotgrid\u001b[0m\u001b[0;34m(\u001b[0m\u001b[0mprot_PDBfile\u001b[0m\u001b[0;34m,\u001b[0m\u001b[0mresids\u001b[0m\u001b[0;34m,\u001b[0m\u001b[0mbxi\u001b[0m\u001b[0;34m,\u001b[0m\u001b[0mbyi\u001b[0m\u001b[0;34m,\u001b[0m\u001b[0mbzi\u001b[0m\u001b[0;34m,\u001b[0m\u001b[0mbxf\u001b[0m\u001b[0;34m=\u001b[0m\u001b[0;36m10\u001b[0m\u001b[0;34m,\u001b[0m\u001b[0mbyf\u001b[0m\u001b[0;34m=\u001b[0m\u001b[0;36m10\u001b[0m\u001b[0;34m,\u001b[0m\u001b[0mbzf\u001b[0m\u001b[0;34m=\u001b[0m\u001b[0;36m10\u001b[0m\u001b[0;34m)\u001b[0m\u001b[0;34m:\u001b[0m\u001b[0;34m\u001b[0m\u001b[0;34m\u001b[0m\u001b[0m\n\u001b[0;32m---> 28\u001b[0;31m   \u001b[0mmol_view\u001b[0m \u001b[0;34m=\u001b[0m \u001b[0mpy3Dmol\u001b[0m\u001b[0;34m.\u001b[0m\u001b[0mview\u001b[0m\u001b[0;34m(\u001b[0m\u001b[0;36m1000\u001b[0m\u001b[0;34m,\u001b[0m\u001b[0;36m1000\u001b[0m\u001b[0;34m,\u001b[0m\u001b[0mviewergrid\u001b[0m\u001b[0;34m=\u001b[0m\u001b[0;34m(\u001b[0m\u001b[0;36m1\u001b[0m\u001b[0;34m,\u001b[0m\u001b[0;36m2\u001b[0m\u001b[0;34m)\u001b[0m\u001b[0;34m)\u001b[0m\u001b[0;34m\u001b[0m\u001b[0;34m\u001b[0m\u001b[0m\n\u001b[0m\u001b[1;32m     29\u001b[0m   \u001b[0mdefinegrid\u001b[0m\u001b[0;34m(\u001b[0m\u001b[0mmol_view\u001b[0m\u001b[0;34m,\u001b[0m\u001b[0mbxi\u001b[0m\u001b[0;34m,\u001b[0m\u001b[0mbyi\u001b[0m\u001b[0;34m,\u001b[0m\u001b[0mbzi\u001b[0m\u001b[0;34m,\u001b[0m\u001b[0mbxf\u001b[0m\u001b[0;34m,\u001b[0m\u001b[0mbyf\u001b[0m\u001b[0;34m,\u001b[0m\u001b[0mbzf\u001b[0m\u001b[0;34m)\u001b[0m\u001b[0;34m\u001b[0m\u001b[0;34m\u001b[0m\u001b[0m\n\u001b[1;32m     30\u001b[0m   \u001b[0mviewprot\u001b[0m\u001b[0;34m(\u001b[0m\u001b[0mmol_view\u001b[0m\u001b[0;34m,\u001b[0m\u001b[0mprot_PDBfile\u001b[0m\u001b[0;34m,\u001b[0m\u001b[0mresids\u001b[0m\u001b[0;34m)\u001b[0m\u001b[0;34m\u001b[0m\u001b[0;34m\u001b[0m\u001b[0m\n",
                  "\u001b[0;31mNameError\u001b[0m: name 'py3Dmol' is not defined"
                ]
              }
            ]
          }
        },
        "d2370db2a6bd4cc2a6dd38089b3a2cb3": {
          "model_module": "@jupyter-widgets/base",
          "model_name": "LayoutModel",
          "model_module_version": "1.2.0",
          "state": {
            "_model_module": "@jupyter-widgets/base",
            "_model_module_version": "1.2.0",
            "_model_name": "LayoutModel",
            "_view_count": null,
            "_view_module": "@jupyter-widgets/base",
            "_view_module_version": "1.2.0",
            "_view_name": "LayoutView",
            "align_content": null,
            "align_items": null,
            "align_self": null,
            "border": null,
            "bottom": null,
            "display": null,
            "flex": null,
            "flex_flow": null,
            "grid_area": null,
            "grid_auto_columns": null,
            "grid_auto_flow": null,
            "grid_auto_rows": null,
            "grid_column": null,
            "grid_gap": null,
            "grid_row": null,
            "grid_template_areas": null,
            "grid_template_columns": null,
            "grid_template_rows": null,
            "height": null,
            "justify_content": null,
            "justify_items": null,
            "left": null,
            "margin": null,
            "max_height": null,
            "max_width": null,
            "min_height": null,
            "min_width": null,
            "object_fit": null,
            "object_position": null,
            "order": null,
            "overflow": null,
            "overflow_x": null,
            "overflow_y": null,
            "padding": null,
            "right": null,
            "top": null,
            "visibility": null,
            "width": null
          }
        },
        "1ec4da3b30734f7cbaac5b25382cda30": {
          "model_module": "@jupyter-widgets/base",
          "model_name": "LayoutModel",
          "model_module_version": "1.2.0",
          "state": {
            "_model_module": "@jupyter-widgets/base",
            "_model_module_version": "1.2.0",
            "_model_name": "LayoutModel",
            "_view_count": null,
            "_view_module": "@jupyter-widgets/base",
            "_view_module_version": "1.2.0",
            "_view_name": "LayoutView",
            "align_content": null,
            "align_items": null,
            "align_self": null,
            "border": null,
            "bottom": null,
            "display": null,
            "flex": null,
            "flex_flow": null,
            "grid_area": null,
            "grid_auto_columns": null,
            "grid_auto_flow": null,
            "grid_auto_rows": null,
            "grid_column": null,
            "grid_gap": null,
            "grid_row": null,
            "grid_template_areas": null,
            "grid_template_columns": null,
            "grid_template_rows": null,
            "height": null,
            "justify_content": null,
            "justify_items": null,
            "left": null,
            "margin": null,
            "max_height": null,
            "max_width": null,
            "min_height": null,
            "min_width": null,
            "object_fit": null,
            "object_position": null,
            "order": null,
            "overflow": null,
            "overflow_x": null,
            "overflow_y": null,
            "padding": null,
            "right": null,
            "top": null,
            "visibility": null,
            "width": null
          }
        },
        "42f476b1900f436a9da963b34bfa917d": {
          "model_module": "@jupyter-widgets/controls",
          "model_name": "DescriptionStyleModel",
          "model_module_version": "1.5.0",
          "state": {
            "_model_module": "@jupyter-widgets/controls",
            "_model_module_version": "1.5.0",
            "_model_name": "DescriptionStyleModel",
            "_view_count": null,
            "_view_module": "@jupyter-widgets/base",
            "_view_module_version": "1.2.0",
            "_view_name": "StyleView",
            "description_width": ""
          }
        },
        "a33ac083ce864102be4b5de91e56f3e2": {
          "model_module": "@jupyter-widgets/base",
          "model_name": "LayoutModel",
          "model_module_version": "1.2.0",
          "state": {
            "_model_module": "@jupyter-widgets/base",
            "_model_module_version": "1.2.0",
            "_model_name": "LayoutModel",
            "_view_count": null,
            "_view_module": "@jupyter-widgets/base",
            "_view_module_version": "1.2.0",
            "_view_name": "LayoutView",
            "align_content": null,
            "align_items": null,
            "align_self": null,
            "border": null,
            "bottom": null,
            "display": null,
            "flex": null,
            "flex_flow": null,
            "grid_area": null,
            "grid_auto_columns": null,
            "grid_auto_flow": null,
            "grid_auto_rows": null,
            "grid_column": null,
            "grid_gap": null,
            "grid_row": null,
            "grid_template_areas": null,
            "grid_template_columns": null,
            "grid_template_rows": null,
            "height": null,
            "justify_content": null,
            "justify_items": null,
            "left": null,
            "margin": null,
            "max_height": null,
            "max_width": null,
            "min_height": null,
            "min_width": null,
            "object_fit": null,
            "object_position": null,
            "order": null,
            "overflow": null,
            "overflow_x": null,
            "overflow_y": null,
            "padding": null,
            "right": null,
            "top": null,
            "visibility": null,
            "width": null
          }
        },
        "2d395e35c4d44cf3b4d4b0415582c156": {
          "model_module": "@jupyter-widgets/controls",
          "model_name": "DescriptionStyleModel",
          "model_module_version": "1.5.0",
          "state": {
            "_model_module": "@jupyter-widgets/controls",
            "_model_module_version": "1.5.0",
            "_model_name": "DescriptionStyleModel",
            "_view_count": null,
            "_view_module": "@jupyter-widgets/base",
            "_view_module_version": "1.2.0",
            "_view_name": "StyleView",
            "description_width": ""
          }
        },
        "8c1ed01cd55b447692b7bf0d84be5b4a": {
          "model_module": "@jupyter-widgets/base",
          "model_name": "LayoutModel",
          "model_module_version": "1.2.0",
          "state": {
            "_model_module": "@jupyter-widgets/base",
            "_model_module_version": "1.2.0",
            "_model_name": "LayoutModel",
            "_view_count": null,
            "_view_module": "@jupyter-widgets/base",
            "_view_module_version": "1.2.0",
            "_view_name": "LayoutView",
            "align_content": null,
            "align_items": null,
            "align_self": null,
            "border": null,
            "bottom": null,
            "display": null,
            "flex": null,
            "flex_flow": null,
            "grid_area": null,
            "grid_auto_columns": null,
            "grid_auto_flow": null,
            "grid_auto_rows": null,
            "grid_column": null,
            "grid_gap": null,
            "grid_row": null,
            "grid_template_areas": null,
            "grid_template_columns": null,
            "grid_template_rows": null,
            "height": null,
            "justify_content": null,
            "justify_items": null,
            "left": null,
            "margin": null,
            "max_height": null,
            "max_width": null,
            "min_height": null,
            "min_width": null,
            "object_fit": null,
            "object_position": null,
            "order": null,
            "overflow": null,
            "overflow_x": null,
            "overflow_y": null,
            "padding": null,
            "right": null,
            "top": null,
            "visibility": null,
            "width": null
          }
        },
        "c046ee0163cf48c3a0502a3d55f80979": {
          "model_module": "@jupyter-widgets/controls",
          "model_name": "SliderStyleModel",
          "model_module_version": "1.5.0",
          "state": {
            "_model_module": "@jupyter-widgets/controls",
            "_model_module_version": "1.5.0",
            "_model_name": "SliderStyleModel",
            "_view_count": null,
            "_view_module": "@jupyter-widgets/base",
            "_view_module_version": "1.2.0",
            "_view_name": "StyleView",
            "description_width": "",
            "handle_color": null
          }
        },
        "9fe9552d5af94fada89ff6d78aca1391": {
          "model_module": "@jupyter-widgets/base",
          "model_name": "LayoutModel",
          "model_module_version": "1.2.0",
          "state": {
            "_model_module": "@jupyter-widgets/base",
            "_model_module_version": "1.2.0",
            "_model_name": "LayoutModel",
            "_view_count": null,
            "_view_module": "@jupyter-widgets/base",
            "_view_module_version": "1.2.0",
            "_view_name": "LayoutView",
            "align_content": null,
            "align_items": null,
            "align_self": null,
            "border": null,
            "bottom": null,
            "display": null,
            "flex": null,
            "flex_flow": null,
            "grid_area": null,
            "grid_auto_columns": null,
            "grid_auto_flow": null,
            "grid_auto_rows": null,
            "grid_column": null,
            "grid_gap": null,
            "grid_row": null,
            "grid_template_areas": null,
            "grid_template_columns": null,
            "grid_template_rows": null,
            "height": null,
            "justify_content": null,
            "justify_items": null,
            "left": null,
            "margin": null,
            "max_height": null,
            "max_width": null,
            "min_height": null,
            "min_width": null,
            "object_fit": null,
            "object_position": null,
            "order": null,
            "overflow": null,
            "overflow_x": null,
            "overflow_y": null,
            "padding": null,
            "right": null,
            "top": null,
            "visibility": null,
            "width": null
          }
        },
        "a5fae9b0913e4b5aaa6c8854cc182976": {
          "model_module": "@jupyter-widgets/controls",
          "model_name": "SliderStyleModel",
          "model_module_version": "1.5.0",
          "state": {
            "_model_module": "@jupyter-widgets/controls",
            "_model_module_version": "1.5.0",
            "_model_name": "SliderStyleModel",
            "_view_count": null,
            "_view_module": "@jupyter-widgets/base",
            "_view_module_version": "1.2.0",
            "_view_name": "StyleView",
            "description_width": "",
            "handle_color": null
          }
        },
        "8758c1e43d7a49b6aff71f6d9aeb32dd": {
          "model_module": "@jupyter-widgets/base",
          "model_name": "LayoutModel",
          "model_module_version": "1.2.0",
          "state": {
            "_model_module": "@jupyter-widgets/base",
            "_model_module_version": "1.2.0",
            "_model_name": "LayoutModel",
            "_view_count": null,
            "_view_module": "@jupyter-widgets/base",
            "_view_module_version": "1.2.0",
            "_view_name": "LayoutView",
            "align_content": null,
            "align_items": null,
            "align_self": null,
            "border": null,
            "bottom": null,
            "display": null,
            "flex": null,
            "flex_flow": null,
            "grid_area": null,
            "grid_auto_columns": null,
            "grid_auto_flow": null,
            "grid_auto_rows": null,
            "grid_column": null,
            "grid_gap": null,
            "grid_row": null,
            "grid_template_areas": null,
            "grid_template_columns": null,
            "grid_template_rows": null,
            "height": null,
            "justify_content": null,
            "justify_items": null,
            "left": null,
            "margin": null,
            "max_height": null,
            "max_width": null,
            "min_height": null,
            "min_width": null,
            "object_fit": null,
            "object_position": null,
            "order": null,
            "overflow": null,
            "overflow_x": null,
            "overflow_y": null,
            "padding": null,
            "right": null,
            "top": null,
            "visibility": null,
            "width": null
          }
        },
        "b8b3aded525c4e50bd2b58733aaf7611": {
          "model_module": "@jupyter-widgets/controls",
          "model_name": "SliderStyleModel",
          "model_module_version": "1.5.0",
          "state": {
            "_model_module": "@jupyter-widgets/controls",
            "_model_module_version": "1.5.0",
            "_model_name": "SliderStyleModel",
            "_view_count": null,
            "_view_module": "@jupyter-widgets/base",
            "_view_module_version": "1.2.0",
            "_view_name": "StyleView",
            "description_width": "",
            "handle_color": null
          }
        },
        "2794c61eaf684a4f9bfc42d0bb13c100": {
          "model_module": "@jupyter-widgets/base",
          "model_name": "LayoutModel",
          "model_module_version": "1.2.0",
          "state": {
            "_model_module": "@jupyter-widgets/base",
            "_model_module_version": "1.2.0",
            "_model_name": "LayoutModel",
            "_view_count": null,
            "_view_module": "@jupyter-widgets/base",
            "_view_module_version": "1.2.0",
            "_view_name": "LayoutView",
            "align_content": null,
            "align_items": null,
            "align_self": null,
            "border": null,
            "bottom": null,
            "display": null,
            "flex": null,
            "flex_flow": null,
            "grid_area": null,
            "grid_auto_columns": null,
            "grid_auto_flow": null,
            "grid_auto_rows": null,
            "grid_column": null,
            "grid_gap": null,
            "grid_row": null,
            "grid_template_areas": null,
            "grid_template_columns": null,
            "grid_template_rows": null,
            "height": null,
            "justify_content": null,
            "justify_items": null,
            "left": null,
            "margin": null,
            "max_height": null,
            "max_width": null,
            "min_height": null,
            "min_width": null,
            "object_fit": null,
            "object_position": null,
            "order": null,
            "overflow": null,
            "overflow_x": null,
            "overflow_y": null,
            "padding": null,
            "right": null,
            "top": null,
            "visibility": null,
            "width": null
          }
        },
        "80bb2be763464518aeb83c3f22856c7f": {
          "model_module": "@jupyter-widgets/controls",
          "model_name": "SliderStyleModel",
          "model_module_version": "1.5.0",
          "state": {
            "_model_module": "@jupyter-widgets/controls",
            "_model_module_version": "1.5.0",
            "_model_name": "SliderStyleModel",
            "_view_count": null,
            "_view_module": "@jupyter-widgets/base",
            "_view_module_version": "1.2.0",
            "_view_name": "StyleView",
            "description_width": "",
            "handle_color": null
          }
        },
        "3ee1ea35b5814fe8b6b56915ad522380": {
          "model_module": "@jupyter-widgets/base",
          "model_name": "LayoutModel",
          "model_module_version": "1.2.0",
          "state": {
            "_model_module": "@jupyter-widgets/base",
            "_model_module_version": "1.2.0",
            "_model_name": "LayoutModel",
            "_view_count": null,
            "_view_module": "@jupyter-widgets/base",
            "_view_module_version": "1.2.0",
            "_view_name": "LayoutView",
            "align_content": null,
            "align_items": null,
            "align_self": null,
            "border": null,
            "bottom": null,
            "display": null,
            "flex": null,
            "flex_flow": null,
            "grid_area": null,
            "grid_auto_columns": null,
            "grid_auto_flow": null,
            "grid_auto_rows": null,
            "grid_column": null,
            "grid_gap": null,
            "grid_row": null,
            "grid_template_areas": null,
            "grid_template_columns": null,
            "grid_template_rows": null,
            "height": null,
            "justify_content": null,
            "justify_items": null,
            "left": null,
            "margin": null,
            "max_height": null,
            "max_width": null,
            "min_height": null,
            "min_width": null,
            "object_fit": null,
            "object_position": null,
            "order": null,
            "overflow": null,
            "overflow_x": null,
            "overflow_y": null,
            "padding": null,
            "right": null,
            "top": null,
            "visibility": null,
            "width": null
          }
        },
        "f5d4e57a6b2b44219e22b4ff9cdc4f11": {
          "model_module": "@jupyter-widgets/controls",
          "model_name": "SliderStyleModel",
          "model_module_version": "1.5.0",
          "state": {
            "_model_module": "@jupyter-widgets/controls",
            "_model_module_version": "1.5.0",
            "_model_name": "SliderStyleModel",
            "_view_count": null,
            "_view_module": "@jupyter-widgets/base",
            "_view_module_version": "1.2.0",
            "_view_name": "StyleView",
            "description_width": "",
            "handle_color": null
          }
        },
        "0c143cb050554ca49a89f257b46f7a18": {
          "model_module": "@jupyter-widgets/base",
          "model_name": "LayoutModel",
          "model_module_version": "1.2.0",
          "state": {
            "_model_module": "@jupyter-widgets/base",
            "_model_module_version": "1.2.0",
            "_model_name": "LayoutModel",
            "_view_count": null,
            "_view_module": "@jupyter-widgets/base",
            "_view_module_version": "1.2.0",
            "_view_name": "LayoutView",
            "align_content": null,
            "align_items": null,
            "align_self": null,
            "border": null,
            "bottom": null,
            "display": null,
            "flex": null,
            "flex_flow": null,
            "grid_area": null,
            "grid_auto_columns": null,
            "grid_auto_flow": null,
            "grid_auto_rows": null,
            "grid_column": null,
            "grid_gap": null,
            "grid_row": null,
            "grid_template_areas": null,
            "grid_template_columns": null,
            "grid_template_rows": null,
            "height": null,
            "justify_content": null,
            "justify_items": null,
            "left": null,
            "margin": null,
            "max_height": null,
            "max_width": null,
            "min_height": null,
            "min_width": null,
            "object_fit": null,
            "object_position": null,
            "order": null,
            "overflow": null,
            "overflow_x": null,
            "overflow_y": null,
            "padding": null,
            "right": null,
            "top": null,
            "visibility": null,
            "width": null
          }
        },
        "33239b5f42554940b07394574dbcd38e": {
          "model_module": "@jupyter-widgets/controls",
          "model_name": "SliderStyleModel",
          "model_module_version": "1.5.0",
          "state": {
            "_model_module": "@jupyter-widgets/controls",
            "_model_module_version": "1.5.0",
            "_model_name": "SliderStyleModel",
            "_view_count": null,
            "_view_module": "@jupyter-widgets/base",
            "_view_module_version": "1.2.0",
            "_view_name": "StyleView",
            "description_width": "",
            "handle_color": null
          }
        },
        "f489bdd8a7df4017ae794d35b987e464": {
          "model_module": "@jupyter-widgets/base",
          "model_name": "LayoutModel",
          "model_module_version": "1.2.0",
          "state": {
            "_model_module": "@jupyter-widgets/base",
            "_model_module_version": "1.2.0",
            "_model_name": "LayoutModel",
            "_view_count": null,
            "_view_module": "@jupyter-widgets/base",
            "_view_module_version": "1.2.0",
            "_view_name": "LayoutView",
            "align_content": null,
            "align_items": null,
            "align_self": null,
            "border": null,
            "bottom": null,
            "display": null,
            "flex": null,
            "flex_flow": null,
            "grid_area": null,
            "grid_auto_columns": null,
            "grid_auto_flow": null,
            "grid_auto_rows": null,
            "grid_column": null,
            "grid_gap": null,
            "grid_row": null,
            "grid_template_areas": null,
            "grid_template_columns": null,
            "grid_template_rows": null,
            "height": null,
            "justify_content": null,
            "justify_items": null,
            "left": null,
            "margin": null,
            "max_height": null,
            "max_width": null,
            "min_height": null,
            "min_width": null,
            "object_fit": null,
            "object_position": null,
            "order": null,
            "overflow": null,
            "overflow_x": null,
            "overflow_y": null,
            "padding": null,
            "right": null,
            "top": null,
            "visibility": null,
            "width": null
          }
        }
      }
    }
  },
  "cells": [
    {
      "cell_type": "markdown",
      "metadata": {
        "id": "WutUwTFo2e4j"
      },
      "source": [
        "#Lab.06 / IBM3202 – Molecular Docking on AutoDock"
      ]
    },
    {
      "cell_type": "markdown",
      "metadata": {
        "id": "FQMdCpigVK-X"
      },
      "source": [
        "###Theoretical aspects\n",
        "\n",
        "As more and more protein structures are determined experimentally using X-ray crystallography or nuclear magnetic resonance (NMR) spectroscopy, molecular docking is increasingly used as a tool in **drug discovery**.\n",
        "\n",
        "**Molecular docking simulations** explore the potential binding poses of small molecules on the **binding site** of a target protein for which an experimentally determined structure is available.\n",
        "Docking against protein targets generated by **comparative modelling** also becomes possible for proteins whose structures are yet to be solved.\n",
        "\n",
        "Thus, the **_druggability_** of different compounds and their binding affinity on a given protein target can be calculated for further lead optimization processes."
      ]
    },
    {
      "cell_type": "markdown",
      "metadata": {
        "id": "mD5dj8UMSqEC"
      },
      "source": [
        "<figure>\n",
        "<center>\n",
        "<img src='https://raw.githubusercontent.com/pb3lab/ibm3202/master/images/docking_01.png'/>\n",
        "<figcaption>FIGURE 1. In molecular docking, binding is evaluated in two steps: A) Energetics of the transition of the unbound states of ligand and target towards the conformations of the bound complex; and B) energetics of protein-ligand binding in these conformations. <br> Huey R et al (2007) <i>J Comput Chem 28(6), 1145-1152.</i></figcaption></center>\n",
        "</figure>"
      ]
    },
    {
      "cell_type": "markdown",
      "metadata": {
        "id": "A8w7VY84UDOc"
      },
      "source": [
        "Molecular docking programs perform a **search algorithm** in which varying conformations of a given ligand, typically generated using Monte Carlo or Genetic algorithms, are recursively evaluated until convergence to an energy minimum is reached. Finally, through an **affinity scoring function**, a ΔG [binding free energy in kcal/mol] is estimated and employed to rank the candidate poses as the sum of several energetic contributions (electrostatics, van der Waals, desolvation, etc)."
      ]
    },
    {
      "cell_type": "markdown",
      "metadata": {
        "id": "eiopP7EdVjqt"
      },
      "source": [
        "##Experimental Overview"
      ]
    },
    {
      "cell_type": "markdown",
      "metadata": {
        "id": "4CMeTYlZVo6P"
      },
      "source": [
        "Typically, in this laboratory session we dock a dimeric analog of the plastic polymer PET (2PET) onto the binding site of PET hydrolase from *I. sakaiensis*, a PET-degrading enzyme discovered in Japan in 2016 for which our lab solved its three-dimensional structure [Fecker T et al (2018) *Biophys J 114 (6), 1302-1312*].\n",
        "\n",
        "However, inspired by the COVID-19 pandemic, in this laboratory session we will perfom a docking assay of **indinavir**, an active component of the **antiretroviral therapy to treat HIV**, onto the binding site of its target protein, **HIV-2 protease**.\n",
        "\n",
        "For our laboratory session, we will install and use **MGLtools** (and alternatively **pdb2pqr**) to prepare the target protein files, **OpenBabel** to prepare the ligand files, **AutoDock Vina** for the docking procedure and **py3Dmol** to establish the appropriate search grid configuration and analyze the results."
      ]
    },
    {
      "cell_type": "markdown",
      "metadata": {
        "id": "xkpCp93eQsUS"
      },
      "source": [
        "<figure>\n",
        "<center>\n",
        "<img src='https://raw.githubusercontent.com/pb3lab/ibm3202/master/images/docking_02.png' />\n",
        "<figcaption>FIGURE 2. General steps of molecular docking. First, the target protein and ligand or ligands are parameterized. Then, the system is prepared by setting up the search grid. Once the docking calculation is performed, ligand poses are scored based on a given energy function. Lastly, the computational search is processed and compared against experimental data for validation <br><i>Taken from Pars Silico (en.parssilico.com).</i></figcaption></center>\n",
        "</figure>"
      ]
    },
    {
      "cell_type": "markdown",
      "metadata": {
        "id": "buTRd47h4QfK"
      },
      "source": [
        "#Part 0 – Downloading and Installing the required software"
      ]
    },
    {
      "cell_type": "markdown",
      "metadata": {
        "id": "KSAoowL_4XIV"
      },
      "source": [
        "Before we start, you must first **remember to start the hosted runtime in Google Colab**.\n",
        "\n",
        "Then, we must install several pieces of software to perform this tutorial. Namely:\n",
        "- **biopython** for manipulation of the PDB files\n",
        "- **py3Dmol** for visualization of the protein structure and setting up the search grid.\n",
        "- **miniconda**, a free minimal installer of **conda** for software package and environment management.\n",
        "- **OpenBabel** for parameterization of our ligand(s).\n",
        "- **MGLtools** for parameterization of our target protein using Gasteiger charges.\n",
        "- **pdb2pqr** for parameterization of our protein using the AMBER ff99 forcefield.\n",
        "- **Autodock Vina** for the docking process\n",
        "\n",
        "After several tests, the following installation instructions are the best way of setting up **Google Colab** for this laboratory session.\n",
        "\n",
        "1. We will first install biopython, py3Dmol, and pdb2pqr as follows:"
      ]
    },
    {
      "cell_type": "code",
      "metadata": {
        "id": "mFxdeBHvatJY",
        "outputId": "46c70046-a396-48aa-bfda-38b5835adeb8",
        "colab": {
          "base_uri": "https://localhost:8080/"
        }
      },
      "source": [
        "#Installing py3Dmol using pip\n",
        "!pip -q install py3Dmol\n",
        "#Installing biopython using pip\n",
        "!pip -q install biopython\n",
        "#Installing pdb2pqr v3.0 using pip\n",
        "!pip -q install pdb2pqr\n",
        "#We will also install RDkit\n",
        "!pip -q install rdkit-pypi"
      ],
      "execution_count": 4,
      "outputs": [
        {
          "output_type": "stream",
          "name": "stdout",
          "text": [
            "\u001b[2K   \u001b[90m━━━━━━━━━━━━━━━━━━━━━━━━━━━━━━━━━━━━━━━━\u001b[0m \u001b[32m3.2/3.2 MB\u001b[0m \u001b[31m28.6 MB/s\u001b[0m eta \u001b[36m0:00:00\u001b[0m\n",
            "\u001b[2K   \u001b[90m━━━━━━━━━━━━━━━━━━━━━━━━━━━━━━━━━━━━━━━━\u001b[0m \u001b[32m206.9/206.9 kB\u001b[0m \u001b[31m4.0 MB/s\u001b[0m eta \u001b[36m0:00:00\u001b[0m\n",
            "\u001b[2K   \u001b[90m━━━━━━━━━━━━━━━━━━━━━━━━━━━━━━━━━━━━━━━━\u001b[0m \u001b[32m575.5/575.5 kB\u001b[0m \u001b[31m20.1 MB/s\u001b[0m eta \u001b[36m0:00:00\u001b[0m\n",
            "\u001b[2K   \u001b[90m━━━━━━━━━━━━━━━━━━━━━━━━━━━━━━━━━━━━━━━━\u001b[0m \u001b[32m104.1/104.1 kB\u001b[0m \u001b[31m8.1 MB/s\u001b[0m eta \u001b[36m0:00:00\u001b[0m\n",
            "\u001b[?25h\u001b[31mERROR: pip's dependency resolver does not currently take into account all the packages that are installed. This behaviour is the source of the following dependency conflicts.\n",
            "sphinx 8.1.3 requires docutils<0.22,>=0.20, but you have docutils 0.17.1 which is incompatible.\u001b[0m\u001b[31m\n",
            "\u001b[2K   \u001b[90m━━━━━━━━━━━━━━━━━━━━━━━━━━━━━━━━━━━━━━━━\u001b[0m \u001b[32m29.4/29.4 MB\u001b[0m \u001b[31m40.9 MB/s\u001b[0m eta \u001b[36m0:00:00\u001b[0m\n",
            "\u001b[?25h"
          ]
        }
      ]
    },
    {
      "cell_type": "code",
      "metadata": {
        "id": "jS2vRGLx40Du"
      },
      "source": [
        "#Importing py3Dmol for safety\n",
        "import py3Dmol"
      ],
      "execution_count": 2,
      "outputs": []
    },
    {
      "cell_type": "code",
      "metadata": {
        "id": "BPObwIbRnGJI",
        "outputId": "5bbb6dad-cb5f-411c-82e5-8b21a0bbf58c",
        "colab": {
          "base_uri": "https://localhost:8080/"
        }
      },
      "source": [
        "#Checking that pdb2pqr was properly installed\n",
        "!pdb2pqr30 -h | awk 'NR==1{if($1==\"usage:\") print \"PDB2PQR succesfully installed\"; else if($1!=\"usage:\") print \"Something went wrong. Please install again\"}'"
      ],
      "execution_count": 3,
      "outputs": [
        {
          "output_type": "stream",
          "name": "stdout",
          "text": [
            "PDB2PQR succesfully installed\n"
          ]
        }
      ]
    },
    {
      "cell_type": "markdown",
      "metadata": {
        "id": "1poPd39lTsPv"
      },
      "source": [
        "2. And then we will install conda to be able to install MGLtools and OpenBabel"
      ]
    },
    {
      "cell_type": "code",
      "metadata": {
        "id": "flYkISi4RpqN",
        "outputId": "935f0b94-7245-40cd-8f41-6706dfea424a",
        "colab": {
          "base_uri": "https://localhost:8080/"
        }
      },
      "source": [
        "#Install conda using the new conda-colab library\n",
        "!pip install -q condacolab\n",
        "import condacolab\n",
        "condacolab.install_miniconda()\n",
        "\n",
        "#Install MGLtools and OpenBabel from\n",
        "#the bioconda repository\n",
        "!conda install -c conda-forge -c bioconda mgltools openbabel zlib ncurses --yes"
      ],
      "execution_count": 4,
      "outputs": [
        {
          "output_type": "stream",
          "name": "stdout",
          "text": [
            "WARNING: pip is being invoked by an old script wrapper. This will fail in a future version of pip.\n",
            "Please see https://github.com/pypa/pip/issues/5599 for advice on fixing the underlying issue.\n",
            "To avoid this problem you can invoke Python with '-m pip' instead of running pip directly.\n",
            "✨🍰✨ Everything looks OK!\n",
            "/usr/local/lib/python3.10/site-packages/conda/base/context.py:201: FutureWarning: Adding 'defaults' to channel list implicitly is deprecated and will be removed in 25.3. \n",
            "\n",
            "To remove this warning, please choose a default channel explicitly with conda's regular configuration system, e.g. by adding 'defaults' to the list of channels:\n",
            "\n",
            "  conda config --add channels defaults\n",
            "\n",
            "For more information see https://docs.conda.io/projects/conda/en/stable/user-guide/configuration/use-condarc.html\n",
            "\n",
            "  deprecated.topic(\n",
            "/usr/local/lib/python3.10/site-packages/conda/base/context.py:201: FutureWarning: Adding 'defaults' to channel list implicitly is deprecated and will be removed in 25.3. \n",
            "\n",
            "To remove this warning, please choose a default channel explicitly with conda's regular configuration system, e.g. by adding 'defaults' to the list of channels:\n",
            "\n",
            "  conda config --add channels defaults\n",
            "\n",
            "For more information see https://docs.conda.io/projects/conda/en/stable/user-guide/configuration/use-condarc.html\n",
            "\n",
            "  deprecated.topic(\n",
            "Channels:\n",
            " - conda-forge\n",
            " - bioconda\n",
            " - defaults\n",
            "Platform: linux-64\n",
            "Collecting package metadata (repodata.json): - \b\b\\ \b\b| \b\b/ \b\b- \b\b\\ \b\b| \b\b/ \b\b- \b\b\\ \b\b| \b\b/ \b\b- \b\b\\ \b\b| \b\b/ \b\b- \b\b\\ \b\b| \b\b/ \b\b- \b\b\\ \b\b| \b\b/ \b\b- \b\b\\ \b\bdone\n",
            "Solving environment: / \b\b- \b\b\\ \b\b| \b\bdone\n",
            "\n",
            "# All requested packages already installed.\n",
            "\n"
          ]
        }
      ]
    },
    {
      "cell_type": "markdown",
      "metadata": {
        "id": "T8Mbw9KE6Xss"
      },
      "source": [
        "3. Finally, we will download the Autodock Vina program from the [AutoDock Vina GitHub](https://github.com/ccsb-scripps/AutoDock-Vina) and make an alias to use it during this session"
      ]
    },
    {
      "cell_type": "code",
      "metadata": {
        "id": "k4UpudGkCUYn",
        "outputId": "0efab470-66a5-4194-9c73-659f2de7aa1a",
        "colab": {
          "base_uri": "https://localhost:8080/"
        }
      },
      "source": [
        "#Download and extract Autodock Vina from SCRIPPS\n",
        "#Then, we set up an alias for vina to be treated as a native binary\n",
        "%%bash\n",
        "mkdir vina\n",
        "cd vina\n",
        "wget -q https://github.com/ccsb-scripps/AutoDock-Vina/releases/download/v1.2.5/vina_1.2.5_linux_x86_64\n",
        "chmod +x /content/vina/vina_1.2.5_linux_x86_64\n",
        "wget -q https://github.com/ccsb-scripps/AutoDock-Vina/releases/download/v1.2.5/vina_split_1.2.5_linux_x86_64\n",
        "chmod +x /content/vina/vina_split_1.2.5_linux_x86_64"
      ],
      "execution_count": 5,
      "outputs": [
        {
          "output_type": "stream",
          "name": "stderr",
          "text": [
            "mkdir: cannot create directory ‘vina’: File exists\n"
          ]
        }
      ]
    },
    {
      "cell_type": "code",
      "metadata": {
        "id": "s-4Jw2Om7GEn"
      },
      "source": [
        "%alias vina /content/vina/vina_1.2.5_linux_x86_64\n",
        "%alias vina_split /content/vina/vina_1.2.5_linux_x86_64"
      ],
      "execution_count": 6,
      "outputs": []
    },
    {
      "cell_type": "markdown",
      "metadata": {
        "id": "5j24YCyD7Zlf"
      },
      "source": [
        "Once these software installation processes are completed, we are ready to perform our experiments"
      ]
    },
    {
      "cell_type": "markdown",
      "metadata": {
        "id": "bMaDj9PdZNlL"
      },
      "source": [
        "#Part 1 – Downloading and Preparing the Receptor for AutoDock"
      ]
    },
    {
      "cell_type": "markdown",
      "metadata": {
        "id": "NGNLlfnU748_"
      },
      "source": [
        "1. The first step in a molecular docking procedure is to have a structure of a given target protein. While in some cases a high-quality comparative model can be used, most cases start with an experimentally (X-ray, NMR, cryoEM) solved three-dimensional structure.\n",
        "\n",
        "  In such scenario, a given target protein structure is downloaded from the **Protein Data Bank (PDB)** (https://www.rcsb.org/pdb) using a given accession ID. For example, the PET hydrolase solved by our lab has the accession ID 6ANE.\n",
        "\n",
        "  For this tutorial, we will use the structure of the HIV-2 protease, solved using X-ray crystallography and deposited in the PDB with the accession ID 1HSG, which we will download using **biopython**:"
      ]
    },
    {
      "cell_type": "code",
      "metadata": {
        "id": "9j_NvhBRhVA0",
        "outputId": "fe2185bb-fcf4-447d-e54f-30d8f06f1eed",
        "colab": {
          "base_uri": "https://localhost:8080/"
        }
      },
      "source": [
        "#Downloading the PDB files using biopython\n",
        "import os\n",
        "from Bio.PDB import *\n",
        "pdbid = ['1hsg']\n",
        "pdbl = PDBList()\n",
        "for s in pdbid:\n",
        "  pdbl.retrieve_pdb_file(s, pdir='.', file_format =\"pdb\", overwrite=True)\n",
        "  os.rename(\"pdb\"+s+\".ent\", s+\".pdb\")"
      ],
      "execution_count": 7,
      "outputs": [
        {
          "output_type": "stream",
          "name": "stdout",
          "text": [
            "Downloading PDB structure '1hsg'...\n"
          ]
        }
      ]
    },
    {
      "cell_type": "markdown",
      "metadata": {
        "id": "rGxSfayJ9OCP"
      },
      "source": [
        "2. In the case of X-ray diffraction, this experimental strategy does not discriminate between electron density coming from static protein atoms or water molecules, meaning that most protein structures solved by X-ray diffraction also include so-called **crystallographic waters** (check the non-bonded red dots on the protein structure below). These molecules are not important for our particular docking simulation, and we also have to remove them.\n",
        "<figure>\n",
        "<center>\n",
        "<img src='https://raw.githubusercontent.com/pb3lab/ibm3202/master/images/docking_03.png' />\n",
        "<figcaption>FIGURE 3. Cartoon representation of HIV-2 protease dimer (PDB accession ID 1HSG), with its N-to-C-terminal residues colored from blue to red in rainbow spectrum, showing the crystallographic waters as red spheres.</i></figcaption></center>\n",
        "</figure>\n",
        "\n",
        "  Typically, this can be easily done by extracting all of the lines from the PDB file that start with **\"ATOM\"**, as this is how all of the atoms that belong to amino and nucleic acid residues are termed. In contrast, the atoms from ligands, water molecules and other non-protein/non-nucleic residues are commonly referred to as **\"HETATM\"**. Also, the different chains of an oligomer are separated by a **\"TER\"** string, which is important to keep in our case.\n",
        "\n",
        "  The following **python script** will first create a folder in which we will store all data related to our molecular docking experiment. Then, it will extract all lines matching the string \"ATOM\" (for the protein atoms) or \"TER\" (for the chain separations) into a separate PDB file for further processing. Please take a good look at it."
      ]
    },
    {
      "cell_type": "code",
      "metadata": {
        "id": "_iZeeP0_BrpV",
        "outputId": "f1c40caf-dbe5-4a61-a389-af0b8b7d5b60",
        "colab": {
          "base_uri": "https://localhost:8080/"
        }
      },
      "source": [
        "#This script will create a folder called \"single-docking\" for our experiment\n",
        "#Then, it will print all \"ATOM\" and \"TER\" lines from a given PDB into a new file\n",
        "\n",
        "#Let's make a folder first. We need to import the os and path library\n",
        "import os\n",
        "from pathlib import Path\n",
        "\n",
        "#Then, we define the path of the folder we want to create.\n",
        "#Notice that the HOME folder for a hosted runtime in colab is /content/\n",
        "singlepath = Path(\"/content/single-dock/\")\n",
        "\n",
        "#Now, we create the folder using the os.mkdir() command\n",
        "#The if conditional is just to check whether the folder already exists\n",
        "#In which case, python returns an error\n",
        "if os.path.exists(singlepath):\n",
        "  print(\"path already exists\")\n",
        "if not os.path.exists(singlepath):\n",
        "  os.mkdir(singlepath)\n",
        "  print(\"path was succesfully created\")\n",
        "\n",
        "#Now we assign a variable \"protein\" with the name and extension of our pdb\n",
        "protein = \"1hsg.pdb\"\n",
        "\n",
        "#And we use the following script to selectively print the lines that contain the\n",
        "#string \"ATOM\" and \"TER\" into a new file inside our recently created folder\n",
        "with open(singlepath / \"1hsg_prot.pdb\",\"w\") as g:\n",
        "  f = open(protein,'r')\n",
        "  for line in f:\n",
        "    row = line.split()\n",
        "    if row[0] == \"ATOM\":\n",
        "      g.write(line)\n",
        "    elif row[0] == \"TER\":\n",
        "      g.write(\"TER\\n\")\n",
        "  g.write(\"END\")\n",
        "  print(\"file successfully created\")"
      ],
      "execution_count": 8,
      "outputs": [
        {
          "output_type": "stream",
          "name": "stdout",
          "text": [
            "path was succesfully created\n",
            "file successfully created\n"
          ]
        }
      ]
    },
    {
      "cell_type": "markdown",
      "metadata": {
        "id": "Qzw3p0A04Yol"
      },
      "source": [
        "3. Once we printed out the \"ATOM\" lines of the parent PDB file, we have a new file that contains  the coordinates of our target protein.\n",
        "\n",
        "  However, for AutoDock Vina to perform a molecular docking experiment, the target protein file must contain atom types compatible with Autodock for evaluating different types of interaction, as well as their partial charges to evaluate electrostatic interactions. Such information is included in a file known as **PDBQT**, a modification of the PDB format that also includes **charges (q)** and **AutoDock-specific atom types (t)** in two extra columns at the end of the now PDBQT file. It is worth noting, however, that Autodock Vina **ignores the user-supplied partial charges**, as it has its own way of dealing with electrostatic interactions.\n",
        "\n",
        "  Lastly, the protein target must contain **all polar hydrogens**, such that hydrogen bonds can be formed between the target protein and the ligand. Most protein structures have no hydrogens included, meaning that we must add them.\n",
        "\n",
        "  This is the part of the tutorial where you have **two different options** to proceed with your experiment!"
      ]
    },
    {
      "cell_type": "markdown",
      "metadata": {
        "id": "dZzmg5Vt8YBe"
      },
      "source": [
        "3. a) Add the polar hydrogens of your protein and parameterize it with **Gasteiger** charges and atom types using **MGLtools** (this is the canonical option for the majority of AutoDock users)"
      ]
    },
    {
      "cell_type": "code",
      "source": [
        "!ls /usr/local/bin/python*"
      ],
      "metadata": {
        "id": "SsegxDCmjyQY",
        "outputId": "2d83f5c4-dcac-4f22-faec-9db34987ffa2",
        "colab": {
          "base_uri": "https://localhost:8080/"
        }
      },
      "execution_count": 9,
      "outputs": [
        {
          "output_type": "stream",
          "name": "stdout",
          "text": [
            "/usr/local/bin/python\t\t /usr/local/bin/python2-config\t/usr/local/bin/python3.10-config\n",
            "/usr/local/bin/python2\t\t /usr/local/bin/python3\t\t/usr/local/bin/python3-config\n",
            "/usr/local/bin/python2.7\t /usr/local/bin/python3.1\t/usr/local/bin/python-config\n",
            "/usr/local/bin/python2.7-config  /usr/local/bin/python3.10\t/usr/local/bin/pythonsh\n"
          ]
        }
      ]
    },
    {
      "cell_type": "code",
      "metadata": {
        "id": "2CdkBcwcQxk8",
        "outputId": "7bb67d02-9b32-43cb-afd0-1c8550f9099d",
        "colab": {
          "base_uri": "https://localhost:8080/"
        }
      },
      "source": [
        "#Parameterizing and adding Gasteiger charges into our protein using MGLtools\n",
        "!python2 /usr/local/bin/prepare_receptor4.py -r $singlepath/1hsg_prot.pdb -o $singlepath/1hsg_prot.pdbqt -A hydrogens -U nphs_lps -v"
      ],
      "execution_count": 10,
      "outputs": [
        {
          "output_type": "stream",
          "name": "stdout",
          "text": [
            "set verbose to  True\n",
            "read  /content/single-dock/1hsg_prot.pdb\n",
            "setting up RPO with mode= automatic and outputfilename=  /content/single-dock/1hsg_prot.pdbqt\n",
            "charges_to_add= gasteiger\n",
            "delete_single_nonstd_residues= None\n",
            "adding gasteiger charges to peptide\n"
          ]
        }
      ]
    },
    {
      "cell_type": "markdown",
      "metadata": {
        "id": "Mg5oSpCb_9AO"
      },
      "source": [
        "3. b) Add the polar hydrogens of your protein and parameterize it based on the pKa of each aminoacid at pH 7.4 with the **AMBER99ff** force field using **pdb2pqr**, followed by deletion of non-polar hydrogens and conversion into **PDBQT** file using **MGLtools**.\n",
        "\n",
        "  In this case, pdb2pqr generates an intermediate **PQR** file, a modification of the PDB format which allows users to add charge and radius parameters to existing PDB data. This information is then unaltered during the use of **MGLtools**."
      ]
    },
    {
      "cell_type": "code",
      "metadata": {
        "id": "Gvq9H_C6DJvU",
        "outputId": "cbe0df61-887a-4518-ae78-9d8b549b30cf",
        "colab": {
          "base_uri": "https://localhost:8080/"
        }
      },
      "source": [
        "#First, using pdb2pqr to parameterize our receptor with AMBER99ff, maintaining\n",
        "#the chain IDs and setting up the receptor at a pH of 7.4\n",
        "!pdb2pqr30 --ff AMBER --keep-chain --titration-state-method propka --with-ph 7.4 $singlepath/1hsg_prot.pdb $singlepath/1hsg_prot.pqr\n",
        "\n",
        "#Then, convert the .pqr file into a .pdbqt file while deleting non-polar\n",
        "#hydrogens but without changing the AMBER parameters added to the protein\n",
        "!python2 /usr/local/bin/prepare_receptor4.py -r $singlepath/1hsg_prot.pqr -o $singlepath/1hsg_prot.pdbqt -C -U nphs_lps -v"
      ],
      "execution_count": 11,
      "outputs": [
        {
          "output_type": "stream",
          "name": "stdout",
          "text": [
            "INFO:PDB2PQR v3.6.2: biomolecular structure conversion software.\n",
            "INFO:Please cite:  Jurrus E, et al.  Improvements to the APBS biomolecular solvation software suite.  Protein Sci 27 112-128 (2018).\n",
            "INFO:Please cite:  Dolinsky TJ, et al.  PDB2PQR: expanding and upgrading automated preparation of biomolecular structures for molecular simulations. Nucleic Acids Res 35 W522-W525 (2007).\n",
            "INFO:Checking and transforming input arguments.\n",
            "INFO:Loading topology files.\n",
            "INFO:Loading molecule: /content/single-dock/1hsg_prot.pdb\n",
            "INFO:Setting up molecule.\n",
            "INFO:Created biomolecule object with 198 residues and 1514 atoms.\n",
            "INFO:Setting termini states for biomolecule chains.\n",
            "INFO:Loading forcefield.\n",
            "INFO:Loading hydrogen topology definitions.\n",
            "WARNING:Missing atom OXT in residue PHE A 99\n",
            "WARNING:Missing atom OXT in residue PHE B 99\n",
            "WARNING:Missing atom OXT in residue PHE A 99\n",
            "WARNING:Missing atom OXT in residue PHE B 99\n",
            "INFO:Attempting to repair 2 missing atoms in biomolecule.\n",
            "WARNING:Missing atom OXT in residue PHE A 99\n",
            "WARNING:Missing atom OXT in residue PHE B 99\n",
            "INFO:Added atom OXT to residue PHE A 99 at coordinates 26.780, 34.489, -10.125\n",
            "INFO:Added atom OXT to residue PHE B 99 at coordinates 26.380, 42.929, 4.902\n",
            "INFO:Updating disulfide bridges.\n",
            "INFO:Debumping biomolecule.\n",
            "INFO:Assigning titration states with PROPKA.\n",
            "INFO:\n",
            "propka3.5.1                                                                                  2025-01-05\n",
            "\n",
            "-------------------------------------------------------------------------------\n",
            "--                                                                           --\n",
            "--  PROPKA: A PROTEIN PKA PREDICTOR                                          --\n",
            "--                                                                           --\n",
            "--  VERSION 1.0,  04/25/2004,  IOWA CITY                                     --\n",
            "--  BY HUI LI                                                                --\n",
            "--                                                                           --\n",
            "--  VERSION 2.0,  11/05/2007, IOWA CITY/COPENHAGEN                           --\n",
            "--  BY DELPHINE C. BAS AND DAVID M. ROGERS                                   --\n",
            "--                                                                           --\n",
            "--  VERSION 3.0,  01/06/2011, COPENHAGEN                                     --\n",
            "--  BY MATS H.M. OLSSON AND CHRESTEN R. SONDERGARD                           --\n",
            "--                                                                           --\n",
            "--  VERSION 3.1,  07/01/2011, COPENHAGEN                                     --\n",
            "--  BY CHRESTEN R. SONDERGARD AND MATS H.M. OLSSON                           --\n",
            "--                                                                           --\n",
            "--  VERSION 3.2,  06/17/2020, PLANET EARTH                                   --\n",
            "--  SEE ABOVE FOR AUTHORS                                                    --\n",
            "--                                                                           --\n",
            "-------------------------------------------------------------------------------\n",
            "\n",
            "\n",
            "-------------------------------------------------------------------------------\n",
            "References:\n",
            "\n",
            "Very Fast Empirical Prediction and Rationalization of Protein pKa Values.\n",
            "Hui Li, Andrew D. Robertson and Jan H. Jensen. PROTEINS: Structure, Function,\n",
            "and Bioinformatics. 61:704-721 (2005)\n",
            "\n",
            "Very Fast Prediction and Rationalization of pKa Values for Protein-Ligand\n",
            "Complexes.  Delphine C. Bas, David M. Rogers and Jan H. Jensen.  PROTEINS:\n",
            "Structure, Function, and Bioinformatics 73:765-783 (2008)\n",
            "\n",
            "PROPKA3: Consistent Treatment of Internal and Surface Residues in Empirical\n",
            "pKa predictions.  Mats H.M. Olsson, Chresten R. Sondergard, Michal Rostkowski,\n",
            "and Jan H. Jensen.  Journal of Chemical Theory and Computation, 7(2):525-537\n",
            "(2011)\n",
            "\n",
            "Improved Treatment of Ligands and Coupling Effects in Empirical Calculation\n",
            "and Rationalization of pKa Values.  Chresten R. Sondergaard, Mats H.M. Olsson,\n",
            "Michal Rostkowski, and Jan H. Jensen.  Journal of Chemical Theory and\n",
            "Computation, (2011)\n",
            "-------------------------------------------------------------------------------\n",
            "\n",
            "\n",
            "\n",
            "INFO:Coupling map:\n",
            "\n",
            "INFO:Calculating pKas for Conformation container 1A with 1790 atoms and 470 groups\n",
            "INFO:pKa determinants:\n",
            "\n",
            "---------  -----   ------   ---------------------    --------------    --------------    --------------\n",
            "                            DESOLVATION  EFFECTS       SIDECHAIN          BACKBONE        COULOMBIC\n",
            " RESIDUE    pKa    BURIED     REGULAR      RE        HYDROGEN BOND     HYDROGEN BOND      INTERACTION\n",
            "---------  -----   ------   ---------   ---------    --------------    --------------    --------------\n",
            "\n",
            "ASP  25 A   5.07*  100 %    2.85  580   0.14    0   -0.89 ASP  25 B   -0.60 GLY  27 A    0.03 ASP  29 A\n",
            "ASP  25 A                                            0.00 XXX   0 X   -0.17 ALA  28 A    0.01 ASP  29 B\n",
            "ASP  25 A                                            0.00 XXX   0 X   -0.09 GLY  27 B    0.00 XXX   0 X\n",
            "\n",
            "ASP  29 A   2.40    40 %    1.05  392   0.10    0   -0.62 ARG  87 A    0.00 XXX   0 X   -0.01 LYS  45 A\n",
            "ASP  29 A                                           -1.00 ARG   8 B    0.00 XXX   0 X   -0.42 ARG  87 A\n",
            "ASP  29 A                                            0.00 XXX   0 X    0.00 XXX   0 X   -0.50 ARG   8 B\n",
            "\n",
            "ASP  30 A   4.77    48 %    1.09  417   0.00    0    0.00 XXX   0 X    0.00 XXX   0 X   -0.28 LYS  45 A\n",
            "ASP  30 A                                            0.00 XXX   0 X    0.00 XXX   0 X   -0.08 ARG  87 A\n",
            "ASP  30 A                                            0.00 XXX   0 X    0.00 XXX   0 X   -0.03 ARG   8 B\n",
            "ASP  30 A                                            0.00 XXX   0 X    0.00 XXX   0 X    0.26 ASP  29 A\n",
            "\n",
            "ASP  60 A   2.87     0 %    0.37  254   0.00    0   -0.00 LYS  43 A    0.00 XXX   0 X   -0.27 LYS  43 A\n",
            "ASP  60 A                                           -0.36 GLN  58 A    0.00 XXX   0 X   -0.04 LYS  45 A\n",
            "ASP  60 A                                           -0.63 THR  74 A    0.00 XXX   0 X    0.00 XXX   0 X\n",
            "\n",
            "GLU  21 A   4.74     0 %    0.25  237   0.00    0    0.00 XXX   0 X    0.00 XXX   0 X   -0.01 ARG   8 A\n",
            "\n",
            "GLU  34 A   4.92     9 %    0.46  306   0.09    0    0.00 XXX   0 X    0.00 XXX   0 X   -0.17 LYS  20 A\n",
            "GLU  34 A                                            0.00 XXX   0 X    0.00 XXX   0 X    0.04 GLU  21 A\n",
            "\n",
            "GLU  35 A   3.66     0 %    0.31  271   0.00    0   -0.83 ARG  57 A    0.00 XXX   0 X   -0.03 LYS  55 A\n",
            "GLU  35 A                                            0.00 XXX   0 X    0.00 XXX   0 X   -0.29 ARG  57 A\n",
            "\n",
            "GLU  65 A   3.95     0 %    0.30  208   0.00    0   -0.31 LYS  14 A    0.00 XXX   0 X   -0.17 LYS  70 A\n",
            "GLU  65 A                                            0.00 XXX   0 X    0.00 XXX   0 X   -0.01 HIS  69 A\n",
            "GLU  65 A                                            0.00 XXX   0 X    0.00 XXX   0 X   -0.37 LYS  14 A\n",
            "\n",
            "C-   99 A   2.09     0 %    0.30  259   0.00    0   -0.82 N+    1 B    0.00 XXX   0 X   -0.20 HIS  69 B\n",
            "C-   99 A                                            0.00 XXX   0 X    0.00 XXX   0 X   -0.38 N+    1 B\n",
            "\n",
            "HIS  69 A   6.86     0 %   -0.37  268   0.00    0    0.00 XXX   0 X    0.27 ILE  66 A   -0.12 N+    1 A\n",
            "HIS  69 A                                            0.00 XXX   0 X    0.35 CYS  67 A    0.01 GLU  65 A\n",
            "HIS  69 A                                            0.00 XXX   0 X    0.00 XXX   0 X    0.22 C-   99 B\n",
            "\n",
            "CYS  67 A   9.73    20 %    0.81  336   0.00    0    0.00 XXX   0 X    0.00 XXX   0 X   -0.12 N+    1 A\n",
            "CYS  67 A                                            0.00 XXX   0 X    0.00 XXX   0 X    0.04 C-   99 B\n",
            "\n",
            "CYS  95 A  11.62    71 %    2.62  481   0.00    0    0.00 XXX   0 X   -0.06 ASN  98 B   -0.05 N+    1 A\n",
            "CYS  95 A                                            0.00 XXX   0 X    0.00 XXX   0 X    0.01 CYS  67 A\n",
            "CYS  95 A                                            0.00 XXX   0 X    0.00 XXX   0 X    0.10 C-   99 B\n",
            "\n",
            "TYR  59 A   9.70     0 %    0.65  274   0.00    0   -0.27 ARG  57 A   -0.33 LEU  38 A    0.05 GLU  35 A\n",
            "TYR  59 A                                            0.00 XXX   0 X    0.00 XXX   0 X   -0.03 ARG  41 A\n",
            "TYR  59 A                                            0.00 XXX   0 X    0.00 XXX   0 X   -0.38 ARG  57 A\n",
            "\n",
            "LYS  14 A  10.98     0 %   -0.20  162   0.00    0    0.31 GLU  65 A    0.00 XXX   0 X    0.37 GLU  65 A\n",
            "\n",
            "LYS  20 A  10.11    13 %   -0.57  317   0.00    0    0.00 XXX   0 X    0.00 XXX   0 X    0.17 GLU  34 A\n",
            "\n",
            "LYS  43 A  10.62     0 %   -0.16  174   0.00    0    0.00 ASP  60 A    0.00 XXX   0 X    0.27 ASP  60 A\n",
            "\n",
            "LYS  45 A  10.59     0 %   -0.24  276   0.00    0    0.00 XXX   0 X    0.00 XXX   0 X    0.01 ASP  29 A\n",
            "LYS  45 A                                            0.00 XXX   0 X    0.00 XXX   0 X    0.28 ASP  30 A\n",
            "LYS  45 A                                            0.00 XXX   0 X    0.00 XXX   0 X    0.04 ASP  60 A\n",
            "\n",
            "LYS  55 A  10.18     0 %   -0.29  213   0.00    0    0.00 XXX   0 X    0.00 XXX   0 X    0.03 GLU  35 A\n",
            "LYS  55 A                                            0.00 XXX   0 X    0.00 XXX   0 X   -0.06 ARG  57 A\n",
            "\n",
            "LYS  70 A  10.52     0 %   -0.12  150   0.00    0    0.00 XXX   0 X    0.00 XXX   0 X    0.17 GLU  65 A\n",
            "LYS  70 A                                            0.00 XXX   0 X    0.00 XXX   0 X   -0.03 LYS  14 A\n",
            "\n",
            "ARG   8 A  14.00    18 %   -0.41  331   0.00    0    1.37 ASP  29 B    0.00 XXX   0 X    0.01 GLU  21 A\n",
            "ARG   8 A                                            0.00 XXX   0 X    0.00 XXX   0 X    0.03 ASP  30 B\n",
            "ARG   8 A                                            0.00 XXX   0 X    0.00 XXX   0 X    0.50 ASP  29 B\n",
            "\n",
            "ARG  41 A  12.43     0 %   -0.10  113   0.00    0    0.00 XXX   0 X    0.00 XXX   0 X    0.03 TYR  59 A\n",
            "\n",
            "ARG  57 A  13.76     2 %   -0.51  287   0.00    0    0.83 GLU  35 A    0.00 XXX   0 X    0.29 GLU  35 A\n",
            "ARG  57 A                                            0.27 TYR  59 A    0.00 XXX   0 X    0.38 TYR  59 A\n",
            "\n",
            "ARG  87 A  12.42    29 %   -1.05  363   0.00    0    0.62 ASP  29 A    0.00 XXX   0 X    0.08 ASP  30 A\n",
            "ARG  87 A                                            0.00 XXX   0 X    0.00 XXX   0 X   -0.15 ARG   8 B\n",
            "ARG  87 A                                            0.00 XXX   0 X    0.00 XXX   0 X    0.42 ASP  29 A\n",
            "\n",
            "N+    1 A   8.97     0 %   -0.43  242   0.00    0    0.85 C-   99 B    0.00 XXX   0 X    0.12 CYS  67 A\n",
            "N+    1 A                                            0.00 XXX   0 X    0.00 XXX   0 X    0.05 CYS  95 A\n",
            "N+    1 A                                            0.00 XXX   0 X    0.00 XXX   0 X    0.38 C-   99 B\n",
            "\n",
            "ASP  25 B   9.06*  100 %    2.81  578   0.19    0    0.89 ASP  25 A   -0.44 GLY  27 B   -0.01 ARG   8 B\n",
            "ASP  25 B                                            0.00 XXX   0 X   -0.04 ALA  28 B    0.01 ASP  29 A\n",
            "ASP  25 B                                            0.00 XXX   0 X    0.00 XXX   0 X    0.04 ASP  29 B\n",
            "ASP  25 B                                            0.00 XXX   0 X    0.00 XXX   0 X    1.81 ASP  25 A\n",
            "\n",
            "ASP  29 B   1.88    40 %    1.09  392   0.10    0   -1.37 ARG   8 A    0.00 XXX   0 X   -0.09 LYS  45 B\n",
            "ASP  29 B                                           -0.72 ARG  87 B    0.00 XXX   0 X   -0.50 ARG   8 A\n",
            "ASP  29 B                                            0.00 XXX   0 X    0.00 XXX   0 X   -0.44 ARG  87 B\n",
            "\n",
            "ASP  30 B   3.98    50 %    1.20  420   0.00    0   -0.63 LYS  45 B    0.00 XXX   0 X   -0.03 ARG   8 A\n",
            "ASP  30 B                                            0.00 XXX   0 X    0.00 XXX   0 X   -0.10 ARG  87 B\n",
            "ASP  30 B                                            0.00 XXX   0 X    0.00 XXX   0 X    0.28 ASP  29 B\n",
            "ASP  30 B                                            0.00 XXX   0 X    0.00 XXX   0 X   -0.54 LYS  45 B\n",
            "\n",
            "ASP  60 B   1.93     0 %    0.48  272   0.00    0   -0.76 GLN  58 B    0.00 XXX   0 X   -0.02 LYS  45 B\n",
            "ASP  60 B                                           -0.55 THR  74 B    0.00 XXX   0 X   -0.38 LYS  43 B\n",
            "ASP  60 B                                           -0.65 LYS  43 B    0.00 XXX   0 X    0.00 XXX   0 X\n",
            "\n",
            "GLU  21 B   4.69     0 %    0.19  227   0.00    0    0.00 XXX   0 X    0.00 XXX   0 X    0.00 XXX   0 X\n",
            "\n",
            "GLU  34 B   4.85     9 %    0.41  306   0.06    0    0.00 XXX   0 X    0.00 XXX   0 X   -0.12 LYS  20 B\n",
            "\n",
            "GLU  35 B   3.81     0 %    0.42  258   0.00    0   -0.72 ARG  57 B    0.00 XXX   0 X   -0.01 LYS  20 B\n",
            "GLU  35 B                                            0.00 XXX   0 X    0.00 XXX   0 X   -0.38 ARG  57 B\n",
            "\n",
            "GLU  65 B   4.30     0 %    0.35  218   0.00    0    0.00 XXX   0 X    0.00 XXX   0 X   -0.21 LYS  14 B\n",
            "GLU  65 B                                            0.00 XXX   0 X    0.00 XXX   0 X   -0.31 LYS  70 B\n",
            "GLU  65 B                                            0.00 XXX   0 X    0.00 XXX   0 X   -0.03 HIS  69 B\n",
            "\n",
            "C-   99 B   1.99     0 %    0.31  259   0.00    0   -0.85 N+    1 A   -0.08 PHE  99 B   -0.22 HIS  69 A\n",
            "C-   99 B                                            0.00 XXX   0 X    0.00 XXX   0 X   -0.38 N+    1 A\n",
            "\n",
            "HIS  69 B   6.22     0 %   -0.40  268   0.00    0    0.00 XXX   0 X    0.00 XXX   0 X   -0.11 N+    1 B\n",
            "HIS  69 B                                            0.00 XXX   0 X    0.00 XXX   0 X    0.20 C-   99 A\n",
            "HIS  69 B                                            0.00 XXX   0 X    0.00 XXX   0 X    0.03 GLU  65 B\n",
            "\n",
            "CYS  67 B   9.91    25 %    0.97  351   0.00    0    0.00 XXX   0 X    0.00 XXX   0 X   -0.10 N+    1 B\n",
            "CYS  67 B                                            0.00 XXX   0 X    0.00 XXX   0 X    0.04 C-   99 A\n",
            "\n",
            "CYS  95 B  11.61    71 %    2.51  479   0.00    0    0.00 XXX   0 X    0.00 XXX   0 X   -0.05 N+    1 B\n",
            "CYS  95 B                                            0.00 XXX   0 X    0.00 XXX   0 X    0.12 C-   99 A\n",
            "CYS  95 B                                            0.00 XXX   0 X    0.00 XXX   0 X    0.03 CYS  67 B\n",
            "\n",
            "TYR  59 B   9.91     0 %    0.66  278   0.00    0   -0.50 ARG  57 B    0.00 XXX   0 X    0.13 GLU  35 B\n",
            "TYR  59 B                                            0.00 XXX   0 X    0.00 XXX   0 X   -0.38 ARG  57 B\n",
            "\n",
            "LYS  14 B  10.48     0 %   -0.14  154   0.00    0    0.00 XXX   0 X    0.00 XXX   0 X    0.21 GLU  65 B\n",
            "LYS  14 B                                            0.00 XXX   0 X    0.00 XXX   0 X   -0.10 LYS  70 B\n",
            "\n",
            "LYS  20 B   9.81    19 %   -0.82  335   0.00    0    0.00 XXX   0 X    0.00 XXX   0 X    0.12 GLU  34 B\n",
            "LYS  20 B                                            0.00 XXX   0 X    0.00 XXX   0 X    0.01 GLU  35 B\n",
            "\n",
            "LYS  43 B  11.30     0 %   -0.23  199   0.00    0    0.65 ASP  60 B    0.00 XXX   0 X    0.38 ASP  60 B\n",
            "\n",
            "LYS  45 B  11.07    22 %   -0.70  343   0.00    0    0.63 ASP  30 B    0.00 XXX   0 X    0.09 ASP  29 B\n",
            "LYS  45 B                                            0.00 XXX   0 X    0.00 XXX   0 X    0.02 ASP  60 B\n",
            "LYS  45 B                                            0.00 XXX   0 X    0.00 XXX   0 X   -0.01 LYS  43 B\n",
            "LYS  45 B                                            0.00 XXX   0 X    0.00 XXX   0 X    0.54 ASP  30 B\n",
            "\n",
            "LYS  55 B   9.85     0 %   -0.61  246   0.00    0    0.00 XXX   0 X    0.00 XXX   0 X   -0.03 ARG  57 B\n",
            "\n",
            "LYS  70 B  10.63     0 %   -0.18  167   0.00    0    0.00 XXX   0 X    0.00 XXX   0 X    0.31 GLU  65 B\n",
            "\n",
            "ARG   8 B  13.58    20 %   -0.45  336   0.00    0    1.00 ASP  29 A    0.00 XXX   0 X    0.03 ASP  30 A\n",
            "ARG   8 B                                            0.00 XXX   0 X    0.00 XXX   0 X    0.01 ASP  25 B\n",
            "ARG   8 B                                            0.00 XXX   0 X    0.00 XXX   0 X    0.50 ASP  29 A\n",
            "\n",
            "ARG  41 B  12.43     0 %   -0.07  101   0.00    0    0.00 XXX   0 X    0.00 XXX   0 X    0.00 XXX   0 X\n",
            "\n",
            "ARG  57 B  14.02     0 %   -0.47  280   0.00    0    0.72 GLU  35 B    0.00 XXX   0 X    0.38 GLU  35 B\n",
            "ARG  57 B                                            0.50 TYR  59 B    0.00 XXX   0 X    0.38 TYR  59 B\n",
            "\n",
            "ARG  87 B  12.48    31 %   -1.13  369   0.00    0    0.72 ASP  29 B    0.00 XXX   0 X    0.10 ASP  30 B\n",
            "ARG  87 B                                            0.00 XXX   0 X    0.00 XXX   0 X   -0.15 ARG   8 A\n",
            "ARG  87 B                                            0.00 XXX   0 X    0.00 XXX   0 X    0.44 ASP  29 B\n",
            "\n",
            "N+    1 B   8.98     0 %   -0.38  230   0.00    0    0.82 C-   99 A    0.00 XXX   0 X    0.10 CYS  67 B\n",
            "N+    1 B                                            0.00 XXX   0 X    0.00 XXX   0 X    0.05 CYS  95 B\n",
            "N+    1 B                                            0.00 XXX   0 X    0.00 XXX   0 X    0.38 C-   99 A\n",
            "\n",
            "Coupled residues (marked *) were detected.Please rerun PropKa with the --display-coupled-residues \n",
            "or -d option for detailed information.\n",
            "\n",
            "INFO:pKa summary:\n",
            "--------------------------------------------------------------------------------------------------------\n",
            "SUMMARY OF THIS PREDICTION\n",
            "       Group      pKa  model-pKa   ligand atom-type\n",
            "   ASP  25 A     5.07       3.80                      \n",
            "   ASP  29 A     2.40       3.80                      \n",
            "   ASP  30 A     4.77       3.80                      \n",
            "   ASP  60 A     2.87       3.80                      \n",
            "   ASP  25 B     9.06       3.80                      \n",
            "   ASP  29 B     1.88       3.80                      \n",
            "   ASP  30 B     3.98       3.80                      \n",
            "   ASP  60 B     1.93       3.80                      \n",
            "   GLU  21 A     4.74       4.50                      \n",
            "   GLU  34 A     4.92       4.50                      \n",
            "   GLU  35 A     3.66       4.50                      \n",
            "   GLU  65 A     3.95       4.50                      \n",
            "   GLU  21 B     4.69       4.50                      \n",
            "   GLU  34 B     4.85       4.50                      \n",
            "   GLU  35 B     3.81       4.50                      \n",
            "   GLU  65 B     4.30       4.50                      \n",
            "   C-   99 A     2.09       3.20                      \n",
            "   C-   99 B     1.99       3.20                      \n",
            "   HIS  69 A     6.86       6.50                      \n",
            "   HIS  69 B     6.22       6.50                      \n",
            "   CYS  67 A     9.73       9.00                      \n",
            "   CYS  95 A    11.62       9.00                      \n",
            "   CYS  67 B     9.91       9.00                      \n",
            "   CYS  95 B    11.61       9.00                      \n",
            "   TYR  59 A     9.70      10.00                      \n",
            "   TYR  59 B     9.91      10.00                      \n",
            "   LYS  14 A    10.98      10.50                      \n",
            "   LYS  20 A    10.11      10.50                      \n",
            "   LYS  43 A    10.62      10.50                      \n",
            "   LYS  45 A    10.59      10.50                      \n",
            "   LYS  55 A    10.18      10.50                      \n",
            "   LYS  70 A    10.52      10.50                      \n",
            "   LYS  14 B    10.48      10.50                      \n",
            "   LYS  20 B     9.81      10.50                      \n",
            "   LYS  43 B    11.30      10.50                      \n",
            "   LYS  45 B    11.07      10.50                      \n",
            "   LYS  55 B     9.85      10.50                      \n",
            "   LYS  70 B    10.63      10.50                      \n",
            "   ARG   8 A    14.00      12.50                      \n",
            "   ARG  41 A    12.43      12.50                      \n",
            "   ARG  57 A    13.76      12.50                      \n",
            "   ARG  87 A    12.42      12.50                      \n",
            "   ARG   8 B    13.58      12.50                      \n",
            "   ARG  41 B    12.43      12.50                      \n",
            "   ARG  57 B    14.02      12.50                      \n",
            "   ARG  87 B    12.48      12.50                      \n",
            "   N+    1 A     8.97       8.00                      \n",
            "   N+    1 B     8.98       8.00                      \n",
            "\n",
            "INFO:PROPKA information:\n",
            "--------------------------------------------------------------------------------------------------------\n",
            "Free energy of   folding (kcal/mol) as a function of pH (using neutral reference)\n",
            "  0.00      1.19\n",
            "  1.00      0.95\n",
            "  2.00     -0.66\n",
            "  3.00     -5.03\n",
            "  4.00     -8.31\n",
            "  5.00     -7.39\n",
            "  6.00     -5.57\n",
            "  7.00     -3.97\n",
            "  8.00     -1.81\n",
            "  9.00      1.62\n",
            " 10.00      4.93\n",
            " 11.00      7.83\n",
            " 12.00     10.43\n",
            " 13.00     13.15\n",
            " 14.00     16.19\n",
            "\n",
            "The pH of optimum stability is  4.2 for which the free energy is   -8.4 kcal/mol at 298K\n",
            "The free energy is within 80 % of maximum at pH  3.4 to  5.3\n",
            "The free energy is negative in the range  1.8 -  8.5\n",
            "\n",
            "\n",
            "Protein charge of folded and unfolded state as a function of pH\n",
            "    pH  unfolded  folded\n",
            "  0.00     24.00   23.95\n",
            "  0.10     24.00   23.94\n",
            "  0.20     24.00   23.92\n",
            "  0.30     23.99   23.90\n",
            "  0.40     23.99   23.88\n",
            "  0.50     23.99   23.85\n",
            "  0.60     23.99   23.81\n",
            "  0.70     23.99   23.76\n",
            "  0.80     23.98   23.71\n",
            "  0.90     23.98   23.64\n",
            "  1.00     23.97   23.55\n",
            "  1.10     23.97   23.45\n",
            "  1.20     23.96   23.33\n",
            "  1.30     23.94   23.18\n",
            "  1.40     23.93   23.01\n",
            "  1.50     23.91   22.81\n",
            "  1.60     23.89   22.59\n",
            "  1.70     23.86   22.34\n",
            "  1.80     23.83   22.07\n",
            "  1.90     23.78   21.77\n",
            "  2.00     23.73   21.46\n",
            "  2.10     23.66   21.14\n",
            "  2.20     23.58   20.82\n",
            "  2.30     23.48   20.49\n",
            "  2.40     23.36   20.17\n",
            "  2.50     23.21   19.85\n",
            "  2.60     23.02   19.53\n",
            "  2.70     22.81   19.23\n",
            "  2.80     22.55   18.92\n",
            "  2.90     22.24   18.63\n",
            "  3.00     21.89   18.33\n",
            "  3.10     21.48   18.03\n",
            "  3.20     21.01   17.72\n",
            "  3.30     20.49   17.40\n",
            "  3.40     19.91   17.07\n",
            "  3.50     19.27   16.72\n",
            "  3.60     18.58   16.35\n",
            "  3.70     17.84   15.96\n",
            "  3.80     17.07   15.55\n",
            "  3.90     16.26   15.12\n",
            "  4.00     15.44   14.68\n",
            "  4.10     14.61   14.21\n",
            "  4.20     13.78   13.73\n",
            "  4.30     12.96   13.25\n",
            "  4.40     12.17   12.75\n",
            "  4.50     11.41   12.25\n",
            "  4.60     10.69   11.75\n",
            "  4.70     10.02   11.25\n",
            "  4.80      9.41   10.76\n",
            "  4.90      8.85   10.29\n",
            "  5.00      8.36    9.84\n",
            "  5.10      7.93    9.42\n",
            "  5.20      7.56    9.03\n",
            "  5.30      7.23    8.67\n",
            "  5.40      6.95    8.35\n",
            "  5.50      6.70    8.05\n",
            "  5.60      6.49    7.79\n",
            "  5.70      6.29    7.55\n",
            "  5.80      6.12    7.33\n",
            "  5.90      5.95    7.13\n",
            "  6.00      5.79    6.95\n",
            "  6.10      5.64    6.78\n",
            "  6.20      5.48    6.62\n",
            "  6.30      5.33    6.46\n",
            "  6.40      5.17    6.32\n",
            "  6.50      5.02    6.17\n",
            "  6.60      4.87    6.04\n",
            "  6.70      4.72    5.91\n",
            "  6.80      4.57    5.79\n",
            "  6.90      4.42    5.67\n",
            "  7.00      4.28    5.57\n",
            "  7.10      4.15    5.47\n",
            "  7.20      4.01    5.37\n",
            "  7.30      3.87    5.28\n",
            "  7.40      3.72    5.20\n",
            "  7.50      3.57    5.12\n",
            "  7.60      3.41    5.04\n",
            "  7.70      3.24    4.96\n",
            "  7.80      3.05    4.88\n",
            "  7.90      2.85    4.79\n",
            "  8.00      2.64    4.69\n",
            "  8.10      2.42    4.58\n",
            "  8.20      2.18    4.45\n",
            "  8.30      1.92    4.31\n",
            "  8.40      1.65    4.13\n",
            "  8.50      1.36    3.93\n",
            "  8.60      1.05    3.70\n",
            "  8.70      0.73    3.44\n",
            "  8.80      0.38    3.13\n",
            "  8.90      0.02    2.79\n",
            "  9.00     -0.36    2.41\n",
            "  9.10     -0.76    1.99\n",
            "  9.20     -1.18    1.54\n",
            "  9.30     -1.62    1.03\n",
            "  9.40     -2.07    0.49\n",
            "  9.50     -2.55   -0.09\n",
            "  9.60     -3.07   -0.71\n",
            "  9.70     -3.62   -1.37\n",
            "  9.80     -4.21   -2.06\n",
            "  9.90     -4.84   -2.79\n",
            " 10.00     -5.52   -3.53\n",
            " 10.10     -6.25   -4.29\n",
            " 10.20     -7.02   -5.06\n",
            " 10.30     -7.82   -5.83\n",
            " 10.40     -8.64   -6.59\n",
            " 10.50     -9.47   -7.35\n",
            " 10.60    -10.28   -8.09\n",
            " 10.70    -11.07   -8.82\n",
            " 10.80    -11.81   -9.52\n",
            " 10.90    -12.50  -10.19\n",
            " 11.00    -13.14  -10.84\n",
            " 11.10    -13.72  -11.46\n",
            " 11.20    -14.24  -12.05\n",
            " 11.30    -14.72  -12.62\n",
            " 11.40    -15.15  -13.16\n",
            " 11.50    -15.56  -13.67\n",
            " 11.60    -15.95  -14.16\n",
            " 11.70    -16.33  -14.63\n",
            " 11.80    -16.72  -15.08\n",
            " 11.90    -17.12  -15.51\n",
            " 12.00    -17.53  -15.94\n",
            " 12.10    -17.96  -16.35\n",
            " 12.20    -18.42  -16.75\n",
            " 12.30    -18.90  -17.14\n",
            " 12.40    -19.38  -17.52\n",
            " 12.50    -19.87  -17.89\n",
            " 12.60    -20.36  -18.25\n",
            " 12.70    -20.83  -18.59\n",
            " 12.80    -21.27  -18.92\n",
            " 12.90    -21.67  -19.23\n",
            " 13.00    -22.04  -19.53\n",
            " 13.10    -22.36  -19.81\n",
            " 13.20    -22.64  -20.09\n",
            " 13.30    -22.89  -20.37\n",
            " 13.40    -23.09  -20.64\n",
            " 13.50    -23.26  -20.92\n",
            " 13.60    -23.40  -21.19\n",
            " 13.70    -23.52  -21.46\n",
            " 13.80    -23.61  -21.72\n",
            " 13.90    -23.69  -21.98\n",
            " 14.00    -23.75  -22.23\n",
            "The pI is  9.48 (folded) and  8.90 (unfolded)\n",
            "\n",
            "--------------------------------------------------------------------------------------------------------\n",
            "INFO:Applying pKa values at a pH of 7.40:\n",
            "INFO:Adding hydrogens to biomolecule.\n",
            "INFO:Debumping biomolecule (again).\n",
            "INFO:Optimizing hydrogen bonds\n",
            "INFO:Applying force field to biomolecule states.\n",
            "INFO:Regenerating headers.\n",
            "INFO:Regenerating PDB lines.\n",
            "WARNING:Ignoring 465 header lines in output.\n",
            "set verbose to  True\n",
            "read  /content/single-dock/1hsg_prot.pqr\n",
            "setting up RPO with mode= automatic and outputfilename=  /content/single-dock/1hsg_prot.pdbqt\n",
            "charges_to_add= None\n",
            "delete_single_nonstd_residues= None\n"
          ]
        }
      ]
    },
    {
      "cell_type": "markdown",
      "metadata": {
        "id": "6GCejhZNGjcV"
      },
      "source": [
        "**You are all set with your target protein!**\n",
        "\n",
        ">Before we move onto preparing the ligand for molecular docking, please consider the following questions:\n",
        "- Why is it important to add hydrogens for the purposes of our docking simulations?\n",
        "- Why are we only adding polar hydrogens?\n",
        "- If the partial charges are ignored by Autodock Vina, how can these different strategies affect my docking results? (this is something you can actually test!)\n",
        "\n"
      ]
    },
    {
      "cell_type": "markdown",
      "metadata": {
        "id": "B4j--lVNGsDg"
      },
      "source": [
        "#Part 2 – Downloading and Preparing the Ligand for AutoDock"
      ]
    },
    {
      "cell_type": "markdown",
      "metadata": {
        "id": "Feav4RTWH3Ol"
      },
      "source": [
        "1. We now need to prepare the ligand that we will use for our docking analysis. In our case, we will use **Indinavir**. This drug is a protease inhibitor used as a component of the antiretroviral therapy to treat HIV/AIDS, aiding in decreasing the viral load. In this opportunity, we will attempt to predict the docking pose of indinavir onto the binding site of the HIV-2 protease.\n",
        "\n",
        "  We will first start by creating a folder in which we will store our ligands for molecular docking."
      ]
    },
    {
      "cell_type": "code",
      "metadata": {
        "id": "LX_ojmvdBTd4",
        "outputId": "91d31eef-6f45-4a29-d8e9-f066a9728ff4",
        "colab": {
          "base_uri": "https://localhost:8080/"
        }
      },
      "source": [
        "#Let's make a folder first. We need to import the os and path library\n",
        "import os\n",
        "from pathlib import Path\n",
        "\n",
        "#We will first create a path for all ligands that we will use in this tutorial\n",
        "#Notice that the HOME folder for a hosted runtime in colab is /content/\n",
        "ligandpath = Path(\"/content/ligands/\")\n",
        "\n",
        "#Now, we create the folder using the os.mkdir() command\n",
        "#The if conditional is just to check whether the folder already exists\n",
        "#In which case, python returns an error\n",
        "if os.path.exists(ligandpath):\n",
        "  print(\"ligand path already exists\")\n",
        "if not os.path.exists(ligandpath):\n",
        "  os.mkdir(ligandpath)\n",
        "  print(\"ligand path was succesfully created\")"
      ],
      "execution_count": 19,
      "outputs": [
        {
          "output_type": "stream",
          "name": "stdout",
          "text": [
            "ligand path already exists\n"
          ]
        }
      ]
    },
    {
      "cell_type": "markdown",
      "metadata": {
        "id": "tLanf4sTChrO"
      },
      "source": [
        "2. Now, we will download indinavir from the **DrugBank** database (*Nucleic Acids Res\n",
        ". 2006; 34, D668-72*). This is comprehensive, freely accessible, online database containing information on drugs and drug targets. You can actually check the detailed chemical, pharmacological and pharmaceutical information on Indinavir [in this DrugBank link](https://www.drugbank.ca/drugs/DB00224).\n",
        "\n",
        "  We will download this ligand in SMILES format to continue with its preparation for molecular docking\n",
        "\n"
      ]
    },
    {
      "cell_type": "code",
      "metadata": {
        "id": "iuI8pBj7aryA"
      },
      "source": [
        "#Downloading Indinavir from the DrugBank database in SMILES format\n",
        "#!wget -q https://www.drugbank.ca/structures/small_molecule_drugs/DB00224.smiles -P $ligandpath\n",
        "!wget -q https://go.drugbank.com/structures/small_molecule_drugs/DB02338.smiles -P $ligandpath"
      ],
      "execution_count": 25,
      "outputs": []
    },
    {
      "cell_type": "markdown",
      "metadata": {
        "id": "NEM5fwsTFcXd"
      },
      "source": [
        "3. Hey! But what is a SMILES format? Well, the **Simplified Molecular-Input Line-Entry System** (SMILES) is a text notation that allows a user to represent a chemical structure in a way that can be used by the computer. The elemental notation for different types of bonds between different atoms is as follows:\n",
        "\n",
        "  \\-\tfor single bonds (eg. C-C or CC is CH3CH3)\n",
        "\n",
        "  \\=\tfor double bonds (eg. C=C for CH2CH2)\n",
        "\n",
        "  \\#\tfor triple bonds (eg. C#N for C≡N)\n",
        "\n",
        "  \\\tfor aromatic bond (eg. C\\*1\\*C\\*C\\*C\\*C\\*C1 or c1ccccc1 for benzene)\n",
        "\n",
        "  \\. for disconnected structures (eg. Na.Cl for NaCl)\n",
        "\n",
        "  / and \\ for double bond stereoisomers (eg. F/C=C/F for trans-1,2-difluoroethylene and F/C=C\\F for cis-1,2-difluoroethylene)\n",
        "\n",
        "  @ and @@ for enantiomers (eg. N\\[C@@H](C)C(=O)O for L-alanine and N\\[C@H](C)C(=O)O for D-alanine)\n",
        "\n",
        "  **Let's take a look at the SMILES of Indinavir!**"
      ]
    },
    {
      "cell_type": "code",
      "metadata": {
        "id": "DWW3DTsY_J4F",
        "outputId": "c22d45cc-8d89-4d0b-bcd9-3a78b18bb4d9",
        "colab": {
          "base_uri": "https://localhost:8080/"
        }
      },
      "source": [
        "#Print the SMILES of indinavir to see what it is all about\n",
        "print((ligandpath / \"/content/ligands/DB02338.smiles.txt\").read_text())"
      ],
      "execution_count": 27,
      "outputs": [
        {
          "output_type": "stream",
          "name": "stdout",
          "text": [
            "NC(=O)C1=CN(C=CC1)[C@@H]1O[C@H](COP(O)(=O)OP(O)(=O)OC[C@H]2O[C@H]([C@H](OP(O)(O)=O)[C@@H]2O)N2C=NC3=C2N=CN=C3N)[C@@H](O)[C@H]1O\n"
          ]
        }
      ]
    },
    {
      "cell_type": "code",
      "metadata": {
        "id": "PjvRbRRMHrw_",
        "outputId": "ba883232-5384-4f3f-89c2-a15d084ea75c",
        "colab": {
          "base_uri": "https://localhost:8080/",
          "height": 530,
          "referenced_widgets": [
            "d2d523bb91bf44bdb379c7b73c1cc522",
            "e27627e23b024f43aef1c16607e090ee",
            "e940d9eed40b4affb204ef28a21fc3a7",
            "c21093316d374a768e469d488f2a3de1",
            "ce5160ff6bd64979a938affc465e21d4",
            "702dbc16fa56489f9c33c538b6be4afa",
            "7f3f343261f2469fbe2c088cc5a8de33"
          ]
        }
      },
      "source": [
        "#@title Use the following Viewer to load your SMILES as a 3D molecule\n",
        "import py3Dmol\n",
        "import rdkit\n",
        "from rdkit import Chem\n",
        "from rdkit.Chem import AllChem\n",
        "\n",
        "def MolTo3DView(mol, size=(300, 300), style=\"stick\", surface=False, opacity=0.5):\n",
        "    assert style in ('line', 'stick', 'sphere', 'carton')\n",
        "    mblock = Chem.MolToMolBlock(mol)\n",
        "    viewer = py3Dmol.view()\n",
        "    viewer.addModel(mblock, 'mol')\n",
        "    viewer.setStyle({style:{}})\n",
        "    if surface:\n",
        "        viewer.addSurface(py3Dmol.SAS, {'opacity': opacity})\n",
        "    viewer.zoomTo()\n",
        "    return viewer\n",
        "\n",
        "from ipywidgets import interact,fixed,IntSlider\n",
        "import ipywidgets\n",
        "\n",
        "def smi2conf(smiles):\n",
        "    '''Convert SMILES to rdkit.Mol with 3D coordinates'''\n",
        "    mol = Chem.MolFromSmiles(smiles)\n",
        "    if mol is not None:\n",
        "        mol = Chem.AddHs(mol)\n",
        "        AllChem.EmbedMolecule(mol)\n",
        "        AllChem.MMFFOptimizeMolecule(mol, maxIters=200)\n",
        "        return mol\n",
        "    else:\n",
        "        return None\n",
        "\n",
        "@interact\n",
        "def smi2viewer(smi='NC(=O)C1=CN(C=C1)[C@@H]1O[C@H](COP(O)(=O)OP(O)(=O)O[C@H]2[C@H](O)[C@@H](O)[C@H](O)[C@H]2O)[C@@H](O)[C@H]1O'):\n",
        "    try:\n",
        "        conf = smi2conf(smi)\n",
        "        return MolTo3DView(conf).show()\n",
        "    except:\n",
        "        return None"
      ],
      "execution_count": 68,
      "outputs": [
        {
          "output_type": "display_data",
          "data": {
            "text/plain": [
              "interactive(children=(Text(value='NC(=O)C1=CN(C=C1)[C@@H]1O[C@H](COP(O)(=O)OP(O)(=O)O[C@H]2[C@H](O)[C@@H](O)[C…"
            ],
            "application/vnd.jupyter.widget-view+json": {
              "version_major": 2,
              "version_minor": 0,
              "model_id": "d2d523bb91bf44bdb379c7b73c1cc522"
            }
          },
          "metadata": {}
        }
      ]
    },
    {
      "cell_type": "markdown",
      "metadata": {
        "id": "jYkw6q2gkGDH"
      },
      "source": [
        "4. Now, we will take this SMILES format and use it to construct and parameterize a three-dimensional structure of Indinavir in **PDBQT** format for its use in molecular docking. As with the receptor, we also have different options to prepare our ligand for molecular docking:"
      ]
    },
    {
      "cell_type": "markdown",
      "metadata": {
        "id": "OkjbrWHeooc_"
      },
      "source": [
        "4. a) Use the program **babel** to convert the SMILES into a **MOL2** file without any extra work (such as searching for best conformers) except for setting the protonation state to pH 7.4, and then use **MGLtools** to parameterize the ligand using **Gasteiger** partial charges (this is the canonical option for the majority of AutoDock users). Please note that we are generating a ligand in which **all torsions are active** during the docking procedure."
      ]
    },
    {
      "cell_type": "code",
      "metadata": {
        "id": "sGUHorvYnJ9k",
        "outputId": "12e529e0-3975-4eee-bfec-275e9833f44d",
        "colab": {
          "base_uri": "https://localhost:8080/"
        }
      },
      "source": [
        "#Converting Indinavir from SMILES into a 3D PDB format\n",
        "#!obabel $ligandpath/DB00224.smiles -O indinavir.mol2 --gen3d best -p 7.4 --canonical\n",
        "#!obabel /content/ligands/DB02338.smiles.txt -O nadph.mol2 --gen3d best -p 7.4 --canonical\n",
        "!obabel -:\"NC(=O)C1=CN(C=C1)[C@@H]1O[C@H](COP(O)(=O)OP(O)(=O)O[C@H]2[C@H](O)[C@@H](O)[C@H](O)[C@H]2O)[C@@H](O)[C@H]1O\" -O /content/nadph.mol2 --gen3d best -p 7.4 --canonical\n",
        "\n",
        "#Parameterizing and adding Gasteiger charges into our protein using MGLtools\n",
        "#Adding -z leads to a rigid ligand without any torsions\n",
        "#!python2 /usr/local/bin/prepare_ligand4.py -l indinavir.mol2 -o $singlepath/indinavir.pdbqt -U nphs_lps -v\n",
        "!python2 /usr/local/bin/prepare_ligand4.py -l nadph.mol2 -o $singlepath/nadph.pdbqt -U nphs_lps -v\n",
        "\n",
        "#NOTE: for some reason, MGLtools does not recognize the ligand when inside a different folder\n",
        "#Here we are deleting the temporary PDB file required for generating the PDBQT file\n",
        "#os.remove(\"indinavir.mol2\")\n",
        "os.remove(\"nadph.mol2\")\n",
        "\n"
      ],
      "execution_count": 69,
      "outputs": [
        {
          "output_type": "stream",
          "name": "stdout",
          "text": [
            "1 molecule converted\n",
            "set verbose to  True\n",
            "read  nadph.mol2\n",
            "setting up LPO with mode= automatic and outputfilename=  /content/single-dock/nadph.pdbqt\n",
            "and check_for_fragments= False\n",
            "and bonds_to_inactivate= \n",
            "returning  0\n",
            "No change in atomic coordinates\n"
          ]
        }
      ]
    },
    {
      "cell_type": "code",
      "source": [
        "#------Check-----#\n",
        "\n",
        "#!ls /content/ligands/\n",
        "#!cat /content/ligands/DB02338.smiles.txt\n",
        "#!cat nadph.mol2\n",
        "\n",
        "#!apt-get update\n",
        "#!apt-get install -y openbabel\n",
        "\n",
        "!find /content/ -name \"nadph.mol2\"\n",
        "\n",
        "#!ls /content/single-dock/nadph.pdbqt\n",
        "#!head /content/single-dock/nadph.pdbqt"
      ],
      "metadata": {
        "collapsed": true,
        "id": "78abOhQvS_l0"
      },
      "execution_count": 63,
      "outputs": []
    },
    {
      "cell_type": "markdown",
      "metadata": {
        "id": "j9aZXCeVnJlv"
      },
      "source": [
        "4. b) Use the program **babel** to  convert the SMILES into a 3D **MOL2** file while simultaneously performing and energy minimization using the Generalized Amber Force Field (**GAFF**). Then, use **MGLtools** to parameterize the ligand using **Gasteiger** partial charges. Please note that we are generating a ligand in which **all torsions are active** during the docking procedure."
      ]
    },
    {
      "cell_type": "code",
      "metadata": {
        "id": "RG6kDCBobRlT",
        "outputId": "f49e2f1b-a973-4a52-cee9-e3b088ffa54d",
        "colab": {
          "base_uri": "https://localhost:8080/"
        }
      },
      "source": [
        "#Converting Indinavir from SMILES into a 3D MOL2 format and perform an energy minimization of the conformer using the GAFF forcefield\n",
        "#Then, prepare ligand for docking using the Autodock script\n",
        "#!obabel $ligandpath/DB00224.smiles -O indinavir.mol2 --gen3d --best --canonical --minimize --ff GAFF --steps 10000 --sd\n",
        "#!obabel /content/ligands/DB02338.smiles.txt -O nadph.mol2 --gen3d --best --canonical --minimize --ff GAFF --steps 10000 --sd\n",
        "!obabel -:\"NC(=O)C1=CN(C=C1)[C@@H]1O[C@H](COP(O)(=O)OP(O)(=O)O[C@H]2[C@H](O)[C@@H](O)[C@H](O)[C@H]2O)[C@@H](O)[C@H]1O\" \\\n",
        "  -O nadph.mol2 --gen3d --best --canonical --minimize --ff GAFF --steps 10000 --sd\n",
        "\n",
        "#!python2 /usr/local/bin/prepare_ligand4.py -l indinavir.mol2 -o $singlepath/indinavir.pdbqt -U nphs_lps -v\n",
        "!python2 /usr/local/bin/prepare_ligand4.py -l nadph.mol2 -o $singlepath/nadph.pdbqt -U nphs_lps -v\n",
        "\n",
        "#os.remove(\"indinavir.mol2\")\n",
        "os.remove(\"nadph.mol2\")"
      ],
      "execution_count": 70,
      "outputs": [
        {
          "output_type": "stream",
          "name": "stdout",
          "text": [
            "1 molecule converted\n",
            "set verbose to  True\n",
            "read  nadph.mol2\n",
            "setting up LPO with mode= automatic and outputfilename=  /content/single-dock/nadph.pdbqt\n",
            "and check_for_fragments= False\n",
            "and bonds_to_inactivate= \n",
            "returning  0\n",
            "No change in atomic coordinates\n"
          ]
        }
      ]
    },
    {
      "cell_type": "markdown",
      "metadata": {
        "id": "PWxOC9h7qMVE"
      },
      "source": [
        "4. c) Use the program **babel** to  convert the SMILES into a 3D **MOL2** file while simultaneously performing a weighted rotor search for the lowest energy conformer using the Generalized Amber Force Field (**GAFF**). Then, use **MGLtools** to parameterize the ligand using **Gasteiger** partial charges. Please note that we are generating a ligand in which **all torsions are active** during the docking procedure."
      ]
    },
    {
      "cell_type": "code",
      "metadata": {
        "id": "Zo0K2pO0o6LP",
        "outputId": "2b36324d-e9da-4951-ea29-8ed93da2ff64",
        "colab": {
          "base_uri": "https://localhost:8080/"
        }
      },
      "source": [
        "#Converting Indinavir from SMILES into a 3D MOL2 format and perform a weighted rotor search for lowest energy conformer\n",
        "#Then, prepare ligand for docking using the Autodock script\n",
        "#!obabel $ligandpath/DB00224.smiles -O indinavir.mol2 --gen3d --best --canonical --conformers --weighted --nconf 50 --ff GAFF\n",
        "#!python2 /usr/local/bin/prepare_ligand4.py -l indinavir.mol2 -o $singlepath/indinavir.pdbqt -U nphs_lps -v\n",
        "#os.remove(\"indinavir.mol2\")\n",
        "\n",
        "!obabel -:\"NC(=O)C1=CN(C=C1)[C@@H]1O[C@H](COP(O)(=O)OP(O)(=O)O[C@H]2[C@H](O)[C@@H](O)[C@H](O)[C@H]2O)[C@@H](O)[C@H]1O\" \\\n",
        "-O nadph.mol2 --gen3d --best --canonical --conformers --weighted --nconf 50 --ff GAFF\n",
        "!python2 /usr/local/bin/prepare_ligand4.py -l nadph.mol2 -o $singlepath/nadph.pdbqt -U nphs_lps -v\n",
        "os.remove(\"nadph.mol2\")\n"
      ],
      "execution_count": 71,
      "outputs": [
        {
          "output_type": "stream",
          "name": "stdout",
          "text": [
            "1 molecule converted\n",
            "set verbose to  True\n",
            "read  nadph.mol2\n",
            "setting up LPO with mode= automatic and outputfilename=  /content/single-dock/nadph.pdbqt\n",
            "and check_for_fragments= False\n",
            "and bonds_to_inactivate= \n",
            "returning  0\n",
            "No change in atomic coordinates\n"
          ]
        }
      ]
    },
    {
      "cell_type": "markdown",
      "metadata": {
        "id": "83g5ZTtGTANG"
      },
      "source": [
        "**You are all set with your ligand!** Now, we move onto setting up the molecular docking experiment"
      ]
    },
    {
      "cell_type": "markdown",
      "metadata": {
        "id": "vZxnFIB-TW8X"
      },
      "source": [
        "#Part 3 – Setting up and Performing Molecular Docking with AutoDock"
      ]
    },
    {
      "cell_type": "markdown",
      "metadata": {
        "id": "ltabEnTrWzdT"
      },
      "source": [
        "1. As explained in the lectures, it is necessary to define the search space for molecular docking on a given target protein through the use of a **grid box**. This grid box is usually centered within the binding, active or allosteric site of the target protein and its size will be sufficiently large such that **all binding residues are placed inside the grid box**.\n",
        "\n",
        "  Here, we will make use of **py3Dmol** to visually inspect the protein structure in cartoon representation and to draw a grid box. The position and size of the grid box will be defined by the coordinates of its centroid and by its dimensions in x, y and z.\n",
        "\n",
        "  To better guide the search for the optimal dimensions and coordinates of the grid box, we will also show the residues Val32, Ile47 and Val82 of HIV-2 protease.\n",
        "\n",
        "  The script that defines the visualizer, which we called **ViewProtGrid**, is first loaded into **Colab** with the following lines of code"
      ]
    },
    {
      "cell_type": "code",
      "metadata": {
        "id": "eyqcfX1ebPcg"
      },
      "source": [
        "#@title Loading the script that creates our Docking Box Viewer\n",
        "#These definitions will enable loading our protein and then\n",
        "#drawing a box with a given size and centroid on the cartesian space\n",
        "#This box will enable us to set up the system coordinates for the simulation\n",
        "#\n",
        "#HINT: The active site of the HIV-2 protease is near the beta strands in green\n",
        "#\n",
        "#ACKNOWLEDGE: This script is largely based on the one created by Jose Manuel\n",
        "#Napoles Duarte, Physics Teacher at the Chemical Sciences Faculty of the\n",
        "#Autonomous University of Chihuahua (https://github.com/napoles-uach)\n",
        "#\n",
        "#First, we define the grid box\n",
        "def definegrid(object,bxi,byi,bzi,bxf,byf,bzf):\n",
        "  object.addBox({'center':{'x':bxi,'y':byi,'z':bzi},'dimensions': {'w':bxf,'h':byf,'d':bzf},'color':'blue','opacity': 0.6})\n",
        "\n",
        "#Next, we define how the protein will be shown in py3Dmol\n",
        "#Note that we are also adding a style representation for active site residues\n",
        "def viewprot(object,prot_PDBfile,resids):\n",
        "  prot_PDBfile = \"/content/Alphafold/R9_seq1_unrelaxed_rank_001.pdb\" # 추가\n",
        "  mol1 = open(prot_PDBfile, 'r').read()\n",
        "  object.addModel(mol1,'pdb')\n",
        "  object.setStyle({'cartoon': {'color':'spectrum'}})\n",
        "  resids = list(range(26, 84))  # R9 seq1 block2 residue\n",
        "  object.addStyle({'resi':resids},{'stick':{'colorscheme':'greenCarbon'}})\n",
        "\n",
        "#Lastly, we combine the box grid and protein into a single viewer\n",
        "def viewprotgrid(prot_PDBfile,resids,bxi,byi,bzi,bxf=10,byf=10,bzf=10):\n",
        "  mol_view = py3Dmol.view(1000,1000,viewergrid=(1,2))\n",
        "  definegrid(mol_view,bxi,byi,bzi,bxf,byf,bzf)\n",
        "  viewprot(mol_view,prot_PDBfile,resids)\n",
        "  mol_view.setBackgroundColor('0xffffff')\n",
        "  mol_view.rotate(90, {'x':0,'y':1,'z':0},viewer=(0,1));\n",
        "  mol_view.zoomTo()\n",
        "  mol_view.show()\n"
      ],
      "execution_count": 1,
      "outputs": []
    },
    {
      "cell_type": "markdown",
      "metadata": {
        "id": "22cz8leUL6P5"
      },
      "source": [
        "2. Now, we will use our ViewProtGrid to visualize the protein, binding site residues and a grid box of variable size and position that we can manipulate using a slider through *ipywidgets*. You have to enter the location of the PDB file in the *pdbfile* variable (e.g. single-dock/1hsg_prot.pdb) and the residues that you want to show from the PDB in the *resids* variable.\n",
        "\n",
        "\n",
        "Examples of how to use the *pdbfile* variable\n",
        ">pdbfile = 1hsg_prot.pdb (if the PDB file is in the current path)\n",
        "\n",
        ">pdbfile = single-dock/1hsg_prot.pdb (if the PDB file is in the single-dock folder)\n",
        "\n",
        "Examples of how to use the *resids* variable\n",
        "\n",
        ">resids = [82] shows a single residue in position 82)\n",
        "\n",
        ">resids = [82,83,84] shows residues 82, 83 or 84 separately, which you can select in the viewer\n",
        "\n",
        ">resids = [(82,83,84)] shows residue 82, 83 and 84 in the same visualization\n",
        "\n",
        ">resids = ['82-84'] shows residue range 82-84 in the same visualization\n",
        "\n",
        "**NOTE:** This code fails when attempting to show two non-consecutive residues in the same visualization.\n"
      ]
    },
    {
      "cell_type": "code",
      "metadata": {
        "id": "eLphxzcKKbcf",
        "outputId": "eea35466-530a-42ac-b7e4-b5f6679aa03e",
        "colab": {
          "base_uri": "https://localhost:8080/",
          "height": 693,
          "referenced_widgets": [
            "caf6491771614b6aa564192d3db63e01",
            "0bcaf2a9af494bbaae0cc12137a27944",
            "f9d3ca69b49b4b228b0738896e33cb50",
            "12dbbe750d3945b183bf9590f5f1c321",
            "b12810c80afb44fba83fe8611e0831de",
            "9d30b25d05d94950929b0a4458aa87b6",
            "2cc5639571134786a475e84d3238074b",
            "ae3036489a474a5e810a54e0b62c6827",
            "26e99a0cecb24071bf6674ab93c45a1b",
            "7d531173e58f4ddc84a26cde95485c64",
            "d2370db2a6bd4cc2a6dd38089b3a2cb3",
            "1ec4da3b30734f7cbaac5b25382cda30",
            "42f476b1900f436a9da963b34bfa917d",
            "a33ac083ce864102be4b5de91e56f3e2",
            "2d395e35c4d44cf3b4d4b0415582c156",
            "8c1ed01cd55b447692b7bf0d84be5b4a",
            "c046ee0163cf48c3a0502a3d55f80979",
            "9fe9552d5af94fada89ff6d78aca1391",
            "a5fae9b0913e4b5aaa6c8854cc182976",
            "8758c1e43d7a49b6aff71f6d9aeb32dd",
            "b8b3aded525c4e50bd2b58733aaf7611",
            "2794c61eaf684a4f9bfc42d0bb13c100",
            "80bb2be763464518aeb83c3f22856c7f",
            "3ee1ea35b5814fe8b6b56915ad522380",
            "f5d4e57a6b2b44219e22b4ff9cdc4f11",
            "0c143cb050554ca49a89f257b46f7a18",
            "33239b5f42554940b07394574dbcd38e",
            "f489bdd8a7df4017ae794d35b987e464"
          ]
        }
      },
      "source": [
        "#@title Loading the Docking Box viewer for a user-defined PDB input file and highlighted residues\n",
        "from ipywidgets import interact,fixed,IntSlider\n",
        "import ipywidgets\n",
        "\n",
        "pdbfile = \"/content/Alphafold/R9_seq1_unrelaxed_rank_001.pdb\" # @param {type:\"string\"}\n",
        "resids = ['26-83'] # @param {type:\"raw\"}\n",
        "interact(viewprotgrid,\n",
        "#ADD YOUR PDB LOCATION AND FILENAME HERE\n",
        "         prot_PDBfile = pdbfile,\n",
        "#ADD THE RESIDUES YOU WANT TO VISUALIZE HERE\n",
        "         resids = resids,\n",
        "         bxi=ipywidgets.IntSlider(min=-100,max=100, step=1),\n",
        "         byi=ipywidgets.IntSlider(min=-100,max=100, step=1),\n",
        "         bzi=ipywidgets.IntSlider(min=-100,max=100, step=1),\n",
        "         bxf=ipywidgets.IntSlider(min=4,max=40, step=1),\n",
        "         byf=ipywidgets.IntSlider(min=4,max=30, step=1),\n",
        "         bzf=ipywidgets.IntSlider(min=4,max=30, step=1))"
      ],
      "execution_count": 3,
      "outputs": [
        {
          "output_type": "display_data",
          "data": {
            "text/plain": [
              "interactive(children=(Text(value='/content/Alphafold/R9_seq1_unrelaxed_rank_001.pdb', description='prot_PDBfil…"
            ],
            "application/vnd.jupyter.widget-view+json": {
              "version_major": 2,
              "version_minor": 0,
              "model_id": "caf6491771614b6aa564192d3db63e01"
            }
          },
          "metadata": {}
        },
        {
          "output_type": "execute_result",
          "data": {
            "text/plain": [
              "<function __main__.viewprotgrid(prot_PDBfile, resids, bxi, byi, bzi, bxf=10, byf=10, bzf=10)>"
            ],
            "text/html": [
              "<div style=\"max-width:800px; border: 1px solid var(--colab-border-color);\"><style>\n",
              "      pre.function-repr-contents {\n",
              "        overflow-x: auto;\n",
              "        padding: 8px 12px;\n",
              "        max-height: 500px;\n",
              "      }\n",
              "\n",
              "      pre.function-repr-contents.function-repr-contents-collapsed {\n",
              "        cursor: pointer;\n",
              "        max-height: 100px;\n",
              "      }\n",
              "    </style>\n",
              "    <pre style=\"white-space: initial; background:\n",
              "         var(--colab-secondary-surface-color); padding: 8px 12px;\n",
              "         border-bottom: 1px solid var(--colab-border-color);\"><b>viewprotgrid</b><br/>def viewprotgrid(prot_PDBfile, resids, bxi, byi, bzi, bxf=10, byf=10, bzf=10)</pre><pre class=\"function-repr-contents function-repr-contents-collapsed\" style=\"\"><a class=\"filepath\" style=\"display:none\" href=\"#\">/content/&lt;ipython-input-1-5e65beac9a69&gt;</a>&lt;no docstring&gt;</pre></div>"
            ]
          },
          "metadata": {},
          "execution_count": 3
        }
      ]
    },
    {
      "cell_type": "markdown",
      "metadata": {
        "id": "75yCJ-eNS7Ia"
      },
      "source": [
        "3. Now, we will generate a configuration file for **Autodock Vina**. As expected, the configuration file contains information about the target protein and ligand, as well as the position and dimensions of the grid box that defines the search space.\n",
        "\n",
        "  For defining the grid box, you will use the  box origin and size coordinates that you defined manually in the previous step.\n",
        "\n",
        "  The following is an example file of a standard **Autodock Vina configuration file**, including several possible variables that can be edited. A very relevant variable is the **exhaustiveness**, i.e., the number of independent runs starting from random conformations, and therefore the amount of computational effort during molecular docking.\n",
        "\n",
        "\n",
        "```\n",
        "#CONFIGURATION FILE\n",
        "\n",
        "#INPUT OPTIONS\n",
        "receptor = [target protein pdbqt file]\n",
        "ligand = [ligand pdbqt file]\n",
        "flex = [flexible residues in receptor in pdbqt format]\n",
        "\n",
        "#SEARCH SPACE CONFIGURATIONS\n",
        "#Center of the box (coordinates x, y and z\n",
        "center_x = [value]\n",
        "center_y = [value]\n",
        "center_z = [value]\n",
        "#Size of the box (dimensions in x, y and z)\n",
        "size_x = [value]\n",
        "size_y = [value]\n",
        "size_z = [value]\n",
        "\n",
        "#OUTPUT OPTIONS\n",
        "#out = [output pdbqt file for all conformations]\n",
        "#log = [output log file for binding energies]\n",
        "\n",
        "#OTHER OPTIONS\n",
        "cpu = [value] # more cpus reduces the computation time\n",
        "exhaustiveness = [value] # search time for finding the global minimum, default is 8\n",
        "num_modes = [value] # maximum number of binding modes to generate, default is 9\n",
        "energy_range = [value] # maximum energy difference between the best binding mode and the worst one displayed (kcal/mol), default is 3\n",
        "seed = [value] # explicit random seed, not required\n",
        "```\n",
        "\n",
        "The following script will create this file for our docking procedure. **You will need to add the position and dimensions of your grid box**\n"
      ]
    },
    {
      "cell_type": "code",
      "metadata": {
        "id": "Q8g2JIgB5fna",
        "cellView": "form"
      },
      "source": [
        "#@title Generating an AutoDock Vina file\n",
        "receptor = \"/content/Alphafold/R9_seq1_unrelaxed_rank_001.pdb\" # @param {type:\"string\"}\n",
        "ligand = \"nadph.pdbqt\" # @param {type:\"string\"}\n",
        "center_x = \"12\" # @param {type:\"string\"}\n",
        "center_y = \"21\" # @param {type:\"string\"}\n",
        "center_z = \"6\" # @param {type:\"string\"}\n",
        "size_x = \"23\" # @param {type:\"string\"}\n",
        "size_y = \"23\" # @param {type:\"string\"}\n",
        "size_z = \"23\" # @param {type:\"string\"}\n",
        "with open(singlepath / \"config_singledock\",\"w\") as f:\n",
        "  f.write(\"#CONFIGURATION FILE (options not used are commented) \\n\")\n",
        "  f.write(\"\\n\")\n",
        "  f.write(\"#INPUT OPTIONS \\n\")\n",
        "  f.write(\"receptor = \" + receptor +\"\\n\")\n",
        "  f.write(\"ligand = \" + ligand +\"\\n\")\n",
        "  f.write(\"#flex = [flexible residues in receptor in pdbqt format] \\n\")\n",
        "  f.write(\"#SEARCH SPACE CONFIGURATIONS \\n\")\n",
        "  f.write(\"#Center of the box (values bxi, byi and bzi) \\n\")\n",
        "#CHANGE THE FOLLOWING DATA WITH YOUR BOX CENTER COORDINATES\n",
        "  f.write(\"center_x = \" + center_x + \"\\n\")\n",
        "  f.write(\"center_y = \" + center_y + \"\\n\")\n",
        "  f.write(\"center_z = \" + center_z + \"\\n\")\n",
        "#CHANGE THE FOLLOWING DATA WITH YOUR BOX DIMENSIONS\n",
        "  f.write(\"#Size of the box (values bxf, byf and bzf) \\n\")\n",
        "  f.write(\"size_x = \" + size_x + \"\\n\")\n",
        "  f.write(\"size_y = \" + size_y + \"\\n\")\n",
        "  f.write(\"size_z = \" + size_z + \"\\n\")\n",
        "  f.write(\"#OUTPUT OPTIONS \\n\")\n",
        "  f.write(\"#out = \\n\")\n",
        "  f.write(\"#log = \\n\")\n",
        "  f.write(\"\\n\")\n",
        "  f.write(\"#OTHER OPTIONS \\n\")\n",
        "  f.write(\"#cpu =  \\n\")\n",
        "  f.write(\"#exhaustiveness = \\n\")\n",
        "  f.write(\"#num_modes = \\n\")\n",
        "  f.write(\"#energy_range = \\n\")\n",
        "  f.write(\"#seed = \")"
      ],
      "execution_count": 74,
      "outputs": []
    },
    {
      "cell_type": "markdown",
      "metadata": {
        "id": "cfxxqcf-XdU3"
      },
      "source": [
        "4. Lastly, we will enter into the folder that we created for the docking experiment and **perform our first molecular docking with Autodock Vina**.\n",
        "\n",
        "  Once you execute the lines of code shown below, Autodock will show you a progress bar (if running as expected). **This simulation should not take longer than 5 min**.\n",
        "  \n",
        "  Note that we are defining the filenames of the output and log file outside the configuration file."
      ]
    },
    {
      "cell_type": "code",
      "metadata": {
        "id": "LRlv9MqoCC19"
      },
      "source": [
        "#Changing directory to the single docking folder\n",
        "os.chdir(singlepath)\n",
        "#Executing AutoDock Vina with our configuration file\n",
        "%vina --config config_singledock --out output.pdbqt | tee output.log\n",
        "#Exiting the execution directory\n",
        "os.chdir(\"/content/\")"
      ],
      "execution_count": null,
      "outputs": []
    },
    {
      "cell_type": "markdown",
      "metadata": {
        "id": "If6YK_XVYPmB"
      },
      "source": [
        "5. Once the molecular docking has finished running, we will compare the docking poses with the experimentally solved pose for indinavir. In fact, the structure of HIV-2 protease that you downloaded at the beginning of this tutorial was solved with indinavir bound to it.\n",
        "\n",
        "  The following lines of code are similar to what we did with extracting the 'ATOM' lines of the PDB file, but now we are extracting the lines containing **'MK1'**, the name of the ligand in this PDB file."
      ]
    },
    {
      "cell_type": "code",
      "metadata": {
        "id": "P1P1XSGWv9pe"
      },
      "source": [
        "#Here, we will be extracting Indinavir, which is present in the structure of\n",
        "#HIV-2 protease (yes! this is a simulation with experimental validation!)\n",
        "#The approach is similar to printing the ATOM and TER lines, but we are using\n",
        "#the residue name given to the ligand in the experimentally solved structure: MK1\n",
        "protein = \"1hsg.pdb\"\n",
        "\n",
        "with open(singlepath/\"xtal_ligand.pdb\",\"w\") as g:\n",
        "  f = open(protein,'r')\n",
        "  for line in f:\n",
        "    row = line.split()\n",
        "    if \"MK1\" in row:\n",
        "      g.write(line)\n",
        "  g.write(\"END\")"
      ],
      "execution_count": null,
      "outputs": []
    },
    {
      "cell_type": "markdown",
      "metadata": {
        "id": "tGnWy5aVaFOP"
      },
      "source": [
        "6. We also need the different docking poses generated as a result of the molecular docking simulation. We will split these poses into separate PDB files using **babel**, starting with file numbered as 1 corresponding to the lowest-energy pose."
      ]
    },
    {
      "cell_type": "code",
      "metadata": {
        "id": "JDkf9pyuZdd2"
      },
      "source": [
        "#We need to convert our Autodock Vina results from pdbqt into pdb\n",
        "#For this, we use babel\n",
        "!obabel -ipdbqt $singlepath/output.pdbqt -opdb -O $singlepath/indinavir_dock.pdb -m"
      ],
      "execution_count": null,
      "outputs": []
    },
    {
      "cell_type": "markdown",
      "metadata": {
        "id": "MFq6k5RofGAm"
      },
      "source": [
        "7. Finally, we will load our target protein into **py3Dmol**, along with any docking pose of our choice and the experimentally solved binding pose of indinavir for comparison."
      ]
    },
    {
      "cell_type": "code",
      "source": [
        "view=py3Dmol.view()\n",
        "view.setBackgroundColor('white')\n",
        "#Loading the target protein as PDB file\n",
        "view.addModel(open(singlepath/'1hsg_prot.pdb', 'r').read(),'pdb')\n",
        "view.setStyle({'cartoon': {'color':'spectrum'}})\n",
        "view.zoomTo()\n",
        "#Loading the docking pose\n",
        "view.addModel(open(singlepath/'indinavir_dock1.pdb', 'r').read(),'pdb')\n",
        "view.setStyle({'model':1},{'stick':{'colorscheme':'greenCarbon'}})\n",
        "#Loading the experimentally solved binding mode\n",
        "view.addModel(open(singlepath/'xtal_ligand.pdb', 'r').read(),'pdb')\n",
        "view.setStyle({'resn':'MK1'},{'stick':{}})\n",
        "view.show()"
      ],
      "metadata": {
        "id": "T6RDFGiUVp7k"
      },
      "execution_count": null,
      "outputs": []
    },
    {
      "cell_type": "markdown",
      "metadata": {
        "id": "jmiDWmYIw2gb"
      },
      "source": [
        "How similar is your docking pose when compared to the experimentally solved one?\n",
        "\n",
        "**📚HOMEWORK:** Remember that redocking, i.e. a molecular docking simulation in which the ligand bound to the target is used as the starting conformation for the docking procedure, is commonly used as a control. Based on this information, plan a control simulation using the ligand that you just extracted in this tutorial\n",
        "\n",
        ">```\n",
        ">#Example of preparation of the experimentally solved ligand pose for redocking\n",
        ">\n",
        ">os.chdir(singlepath)\n",
        ">!pythonsh /usr/local/bin/prepare_ligand4.py -l xtal_ligand.pdb -o $singlepath/xtal_ind.pdbqt -A hydrogens -U nphs_lps -v\n",
        ">\n",
        ">#Then, you can essentially use the same configuration files.\n",
        ">```\n",
        "\n"
      ]
    },
    {
      "cell_type": "markdown",
      "metadata": {
        "id": "ACJSETwdymVx"
      },
      "source": [
        "**And this is the end of the sixth tutorial!** If you want to download your results, you can compress them into a zip file for manual download."
      ]
    },
    {
      "cell_type": "code",
      "metadata": {
        "id": "DPQP2YWD48xx"
      },
      "source": [
        "!zip -r singledocking.zip $singlepath\n",
        "#By default, automatic download is enabled through the following lines\n",
        "#but you need to disable your adblocker in order for it to work\n",
        "from google.colab import files\n",
        "files.download(\"/content/singledocking.zip\")"
      ],
      "execution_count": null,
      "outputs": []
    }
  ]
}